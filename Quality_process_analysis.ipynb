{
 "cells": [
  {
   "cell_type": "code",
   "execution_count": 3,
   "metadata": {},
   "outputs": [],
   "source": [
    "import pandas as pd\n",
    "import numpy as np\n",
    "import matplotlib.pyplot as plt\n",
    "import seaborn as sns\n",
    "%matplotlib inline"
   ]
  },
  {
   "cell_type": "code",
   "execution_count": 4,
   "metadata": {},
   "outputs": [
    {
     "data": {
      "text/html": [
       "<div>\n",
       "<style scoped>\n",
       "    .dataframe tbody tr th:only-of-type {\n",
       "        vertical-align: middle;\n",
       "    }\n",
       "\n",
       "    .dataframe tbody tr th {\n",
       "        vertical-align: top;\n",
       "    }\n",
       "\n",
       "    .dataframe thead th {\n",
       "        text-align: right;\n",
       "    }\n",
       "</style>\n",
       "<table border=\"1\" class=\"dataframe\">\n",
       "  <thead>\n",
       "    <tr style=\"text-align: right;\">\n",
       "      <th></th>\n",
       "      <th>date</th>\n",
       "      <th>% Iron Feed</th>\n",
       "      <th>% Silica Feed</th>\n",
       "      <th>Starch Flow</th>\n",
       "      <th>Amina Flow</th>\n",
       "      <th>Ore Pulp Flow</th>\n",
       "      <th>Ore Pulp pH</th>\n",
       "      <th>Ore Pulp Density</th>\n",
       "      <th>Flotation Column 01 Air Flow</th>\n",
       "      <th>Flotation Column 02 Air Flow</th>\n",
       "      <th>...</th>\n",
       "      <th>Flotation Column 07 Air Flow</th>\n",
       "      <th>Flotation Column 01 Level</th>\n",
       "      <th>Flotation Column 02 Level</th>\n",
       "      <th>Flotation Column 03 Level</th>\n",
       "      <th>Flotation Column 04 Level</th>\n",
       "      <th>Flotation Column 05 Level</th>\n",
       "      <th>Flotation Column 06 Level</th>\n",
       "      <th>Flotation Column 07 Level</th>\n",
       "      <th>% Iron Concentrate</th>\n",
       "      <th>% Silica Concentrate</th>\n",
       "    </tr>\n",
       "  </thead>\n",
       "  <tbody>\n",
       "    <tr>\n",
       "      <th>0</th>\n",
       "      <td>2017-03-10 01:00:00</td>\n",
       "      <td>55,2</td>\n",
       "      <td>16,98</td>\n",
       "      <td>3019,53</td>\n",
       "      <td>557,434</td>\n",
       "      <td>395,713</td>\n",
       "      <td>10,0664</td>\n",
       "      <td>1,74</td>\n",
       "      <td>249,214</td>\n",
       "      <td>253,235</td>\n",
       "      <td>...</td>\n",
       "      <td>250,884</td>\n",
       "      <td>457,396</td>\n",
       "      <td>432,962</td>\n",
       "      <td>424,954</td>\n",
       "      <td>443,558</td>\n",
       "      <td>502,255</td>\n",
       "      <td>446,37</td>\n",
       "      <td>523,344</td>\n",
       "      <td>66,91</td>\n",
       "      <td>1,31</td>\n",
       "    </tr>\n",
       "    <tr>\n",
       "      <th>1</th>\n",
       "      <td>2017-03-10 01:00:00</td>\n",
       "      <td>55,2</td>\n",
       "      <td>16,98</td>\n",
       "      <td>3024,41</td>\n",
       "      <td>563,965</td>\n",
       "      <td>397,383</td>\n",
       "      <td>10,0672</td>\n",
       "      <td>1,74</td>\n",
       "      <td>249,719</td>\n",
       "      <td>250,532</td>\n",
       "      <td>...</td>\n",
       "      <td>248,994</td>\n",
       "      <td>451,891</td>\n",
       "      <td>429,56</td>\n",
       "      <td>432,939</td>\n",
       "      <td>448,086</td>\n",
       "      <td>496,363</td>\n",
       "      <td>445,922</td>\n",
       "      <td>498,075</td>\n",
       "      <td>66,91</td>\n",
       "      <td>1,31</td>\n",
       "    </tr>\n",
       "    <tr>\n",
       "      <th>2</th>\n",
       "      <td>2017-03-10 01:00:00</td>\n",
       "      <td>55,2</td>\n",
       "      <td>16,98</td>\n",
       "      <td>3043,46</td>\n",
       "      <td>568,054</td>\n",
       "      <td>399,668</td>\n",
       "      <td>10,068</td>\n",
       "      <td>1,74</td>\n",
       "      <td>249,741</td>\n",
       "      <td>247,874</td>\n",
       "      <td>...</td>\n",
       "      <td>248,071</td>\n",
       "      <td>451,24</td>\n",
       "      <td>468,927</td>\n",
       "      <td>434,61</td>\n",
       "      <td>449,688</td>\n",
       "      <td>484,411</td>\n",
       "      <td>447,826</td>\n",
       "      <td>458,567</td>\n",
       "      <td>66,91</td>\n",
       "      <td>1,31</td>\n",
       "    </tr>\n",
       "    <tr>\n",
       "      <th>3</th>\n",
       "      <td>2017-03-10 01:00:00</td>\n",
       "      <td>55,2</td>\n",
       "      <td>16,98</td>\n",
       "      <td>3047,36</td>\n",
       "      <td>568,665</td>\n",
       "      <td>397,939</td>\n",
       "      <td>10,0689</td>\n",
       "      <td>1,74</td>\n",
       "      <td>249,917</td>\n",
       "      <td>254,487</td>\n",
       "      <td>...</td>\n",
       "      <td>251,147</td>\n",
       "      <td>452,441</td>\n",
       "      <td>458,165</td>\n",
       "      <td>442,865</td>\n",
       "      <td>446,21</td>\n",
       "      <td>471,411</td>\n",
       "      <td>437,69</td>\n",
       "      <td>427,669</td>\n",
       "      <td>66,91</td>\n",
       "      <td>1,31</td>\n",
       "    </tr>\n",
       "    <tr>\n",
       "      <th>4</th>\n",
       "      <td>2017-03-10 01:00:00</td>\n",
       "      <td>55,2</td>\n",
       "      <td>16,98</td>\n",
       "      <td>3033,69</td>\n",
       "      <td>558,167</td>\n",
       "      <td>400,254</td>\n",
       "      <td>10,0697</td>\n",
       "      <td>1,74</td>\n",
       "      <td>250,203</td>\n",
       "      <td>252,136</td>\n",
       "      <td>...</td>\n",
       "      <td>248,928</td>\n",
       "      <td>452,441</td>\n",
       "      <td>452,9</td>\n",
       "      <td>450,523</td>\n",
       "      <td>453,67</td>\n",
       "      <td>462,598</td>\n",
       "      <td>443,682</td>\n",
       "      <td>425,679</td>\n",
       "      <td>66,91</td>\n",
       "      <td>1,31</td>\n",
       "    </tr>\n",
       "  </tbody>\n",
       "</table>\n",
       "<p>5 rows × 24 columns</p>\n",
       "</div>"
      ],
      "text/plain": [
       "                  date % Iron Feed % Silica Feed Starch Flow Amina Flow  \\\n",
       "0  2017-03-10 01:00:00        55,2         16,98     3019,53    557,434   \n",
       "1  2017-03-10 01:00:00        55,2         16,98     3024,41    563,965   \n",
       "2  2017-03-10 01:00:00        55,2         16,98     3043,46    568,054   \n",
       "3  2017-03-10 01:00:00        55,2         16,98     3047,36    568,665   \n",
       "4  2017-03-10 01:00:00        55,2         16,98     3033,69    558,167   \n",
       "\n",
       "  Ore Pulp Flow Ore Pulp pH Ore Pulp Density Flotation Column 01 Air Flow  \\\n",
       "0       395,713     10,0664             1,74                      249,214   \n",
       "1       397,383     10,0672             1,74                      249,719   \n",
       "2       399,668      10,068             1,74                      249,741   \n",
       "3       397,939     10,0689             1,74                      249,917   \n",
       "4       400,254     10,0697             1,74                      250,203   \n",
       "\n",
       "  Flotation Column 02 Air Flow  ... Flotation Column 07 Air Flow  \\\n",
       "0                      253,235  ...                      250,884   \n",
       "1                      250,532  ...                      248,994   \n",
       "2                      247,874  ...                      248,071   \n",
       "3                      254,487  ...                      251,147   \n",
       "4                      252,136  ...                      248,928   \n",
       "\n",
       "  Flotation Column 01 Level Flotation Column 02 Level  \\\n",
       "0                   457,396                   432,962   \n",
       "1                   451,891                    429,56   \n",
       "2                    451,24                   468,927   \n",
       "3                   452,441                   458,165   \n",
       "4                   452,441                     452,9   \n",
       "\n",
       "  Flotation Column 03 Level Flotation Column 04 Level  \\\n",
       "0                   424,954                   443,558   \n",
       "1                   432,939                   448,086   \n",
       "2                    434,61                   449,688   \n",
       "3                   442,865                    446,21   \n",
       "4                   450,523                    453,67   \n",
       "\n",
       "  Flotation Column 05 Level Flotation Column 06 Level  \\\n",
       "0                   502,255                    446,37   \n",
       "1                   496,363                   445,922   \n",
       "2                   484,411                   447,826   \n",
       "3                   471,411                    437,69   \n",
       "4                   462,598                   443,682   \n",
       "\n",
       "  Flotation Column 07 Level % Iron Concentrate % Silica Concentrate  \n",
       "0                   523,344              66,91                 1,31  \n",
       "1                   498,075              66,91                 1,31  \n",
       "2                   458,567              66,91                 1,31  \n",
       "3                   427,669              66,91                 1,31  \n",
       "4                   425,679              66,91                 1,31  \n",
       "\n",
       "[5 rows x 24 columns]"
      ]
     },
     "execution_count": 4,
     "metadata": {},
     "output_type": "execute_result"
    }
   ],
   "source": [
    "df= pd.read_csv(r\"C:\\Users\\tayoo_x4di65g\\OneDrive\\Documents\\Data Science\\Uploadables\\Quality Prediction in a mining process\\MiningProcess_Flotation_Plant_Database.csv\")\n",
    "df.head()"
   ]
  },
  {
   "cell_type": "code",
   "execution_count": 5,
   "metadata": {},
   "outputs": [
    {
     "data": {
      "text/plain": [
       "Index(['date', '% Iron Feed', '% Silica Feed', 'Starch Flow', 'Amina Flow',\n",
       "       'Ore Pulp Flow', 'Ore Pulp pH', 'Ore Pulp Density',\n",
       "       'Flotation Column 01 Air Flow', 'Flotation Column 02 Air Flow',\n",
       "       'Flotation Column 03 Air Flow', 'Flotation Column 04 Air Flow',\n",
       "       'Flotation Column 05 Air Flow', 'Flotation Column 06 Air Flow',\n",
       "       'Flotation Column 07 Air Flow', 'Flotation Column 01 Level',\n",
       "       'Flotation Column 02 Level', 'Flotation Column 03 Level',\n",
       "       'Flotation Column 04 Level', 'Flotation Column 05 Level',\n",
       "       'Flotation Column 06 Level', 'Flotation Column 07 Level',\n",
       "       '% Iron Concentrate', '% Silica Concentrate'],\n",
       "      dtype='object')"
      ]
     },
     "execution_count": 5,
     "metadata": {},
     "output_type": "execute_result"
    }
   ],
   "source": [
    "df.columns"
   ]
  },
  {
   "cell_type": "code",
   "execution_count": 6,
   "metadata": {},
   "outputs": [
    {
     "name": "stdout",
     "output_type": "stream",
     "text": [
      "<class 'pandas.core.frame.DataFrame'>\n",
      "RangeIndex: 737453 entries, 0 to 737452\n",
      "Data columns (total 24 columns):\n",
      " #   Column                        Non-Null Count   Dtype \n",
      "---  ------                        --------------   ----- \n",
      " 0   date                          737453 non-null  object\n",
      " 1   % Iron Feed                   737453 non-null  object\n",
      " 2   % Silica Feed                 737453 non-null  object\n",
      " 3   Starch Flow                   737453 non-null  object\n",
      " 4   Amina Flow                    737453 non-null  object\n",
      " 5   Ore Pulp Flow                 737453 non-null  object\n",
      " 6   Ore Pulp pH                   737453 non-null  object\n",
      " 7   Ore Pulp Density              737453 non-null  object\n",
      " 8   Flotation Column 01 Air Flow  737453 non-null  object\n",
      " 9   Flotation Column 02 Air Flow  737453 non-null  object\n",
      " 10  Flotation Column 03 Air Flow  737453 non-null  object\n",
      " 11  Flotation Column 04 Air Flow  737453 non-null  object\n",
      " 12  Flotation Column 05 Air Flow  737453 non-null  object\n",
      " 13  Flotation Column 06 Air Flow  737453 non-null  object\n",
      " 14  Flotation Column 07 Air Flow  737453 non-null  object\n",
      " 15  Flotation Column 01 Level     737453 non-null  object\n",
      " 16  Flotation Column 02 Level     737453 non-null  object\n",
      " 17  Flotation Column 03 Level     737453 non-null  object\n",
      " 18  Flotation Column 04 Level     737453 non-null  object\n",
      " 19  Flotation Column 05 Level     737453 non-null  object\n",
      " 20  Flotation Column 06 Level     737453 non-null  object\n",
      " 21  Flotation Column 07 Level     737453 non-null  object\n",
      " 22  % Iron Concentrate            737453 non-null  object\n",
      " 23  % Silica Concentrate          737453 non-null  object\n",
      "dtypes: object(24)\n",
      "memory usage: 135.0+ MB\n"
     ]
    }
   ],
   "source": [
    "df.info()"
   ]
  },
  {
   "cell_type": "markdown",
   "metadata": {},
   "source": [
    "Information from the Kaggle data set page says:\n",
    "\n",
    "The first column shows time and date range (from march of 2017 until september of 2017). Some columns were sampled every 20 second. Others were sampled on a hourly base.\n",
    "\n",
    "The second and third columns are quality measures of the iron ore pulp right before it is fed into the flotation plant\n",
    "\n",
    "Column 4 until column 8 are the most important variables that impact in the ore quality in the end of the process.\n",
    "\n",
    "From column 9 until column 22, we can see process data (level and air flow inside the flotation columns, which also impact in ore quality\n",
    "\n",
    "The last two columns are the final iron ore pulp quality measurement from the lab.\n",
    "\n",
    "Target is to predict the last column, which is the % of silica in the iron ore concentrate.\n"
   ]
  },
  {
   "cell_type": "markdown",
   "metadata": {},
   "source": [
    "##### <b> Now before we start any analysis it is important to note that the counsel and collaboration of the actual engineers and field experts is paramount, ML algorithms are Garbage In Garbage Out and nothing is as important as practical knowledge of the process being analyzed. I will be trying my best to answer some of the inquiries on the kaggle dataset post</b>"
   ]
  },
  {
   "cell_type": "markdown",
   "metadata": {},
   "source": [
    "Objectives:\n",
    "\n",
    "Is it possible to predict % Silica Concentrate every minute?\n",
    "\n",
    "How many steps (hours) ahead can we predict % Silica in Concentrate? This would help engineers to act in predictive and optimized way, mitigatin the % of iron that could have gone to tailings.\n",
    "\n",
    "Is it possible to predict % Silica in Concentrate whitout using % Iron Concentrate column (as they are highly correlated)?"
   ]
  },
  {
   "cell_type": "code",
   "execution_count": 7,
   "metadata": {},
   "outputs": [],
   "source": [
    "df['date'] = pd.to_datetime(df['date']) # converting the date column to timedate format in pandas"
   ]
  },
  {
   "cell_type": "code",
   "execution_count": 8,
   "metadata": {},
   "outputs": [
    {
     "name": "stdout",
     "output_type": "stream",
     "text": [
      "0\n",
      "0\n",
      "0\n",
      "0\n",
      "0\n",
      "0\n",
      "0\n",
      "0\n",
      "0\n",
      "0\n",
      "0\n",
      "0\n",
      "0\n",
      "0\n",
      "0\n",
      "0\n",
      "0\n",
      "0\n",
      "0\n",
      "0\n",
      "0\n",
      "0\n",
      "0\n",
      "0\n",
      "0\n",
      "0\n",
      "0\n",
      "0\n"
     ]
    }
   ],
   "source": [
    "#trying to see if we can extract the data by the minutes\n",
    "import random\n",
    "for i in range(2,30):\n",
    "    print(df['date'][random.randint(0,len(df))].minute) \n",
    "    # as we can see, this data doesn't really have data recorded by the minute"
   ]
  },
  {
   "cell_type": "code",
   "execution_count": 9,
   "metadata": {},
   "outputs": [],
   "source": [
    "# Another way I think we can do this is by using the hours but in fractions, for example 3.5 meaning 3:30AM \n",
    "df['hours'] = df['date'].apply(lambda x: x.hour)"
   ]
  },
  {
   "cell_type": "code",
   "execution_count": 10,
   "metadata": {},
   "outputs": [
    {
     "data": {
      "text/plain": [
       "24"
      ]
     },
     "execution_count": 10,
     "metadata": {},
     "output_type": "execute_result"
    }
   ],
   "source": [
    "df['hours'].nunique() #24 unique times I am guessing representing the number of hours in a day"
   ]
  },
  {
   "cell_type": "code",
   "execution_count": 11,
   "metadata": {},
   "outputs": [],
   "source": [
    "# I tried to work with the data but I will need to conver the numerical values into a compatible format \n",
    "# so I have to do a little data engineering\n",
    "numerical_values = ['% Iron Feed', '% Silica Feed', 'Starch Flow', 'Amina Flow',\n",
    "       'Ore Pulp Flow', 'Ore Pulp pH', 'Ore Pulp Density',\n",
    "       'Flotation Column 01 Air Flow', 'Flotation Column 02 Air Flow',\n",
    "       'Flotation Column 03 Air Flow', 'Flotation Column 04 Air Flow',\n",
    "       'Flotation Column 05 Air Flow', 'Flotation Column 06 Air Flow',\n",
    "       'Flotation Column 07 Air Flow', 'Flotation Column 01 Level',\n",
    "       'Flotation Column 02 Level', 'Flotation Column 03 Level',\n",
    "       'Flotation Column 04 Level', 'Flotation Column 05 Level',\n",
    "       'Flotation Column 06 Level', 'Flotation Column 07 Level',\n",
    "       '% Iron Concentrate', '% Silica Concentrate']\n"
   ]
  },
  {
   "cell_type": "code",
   "execution_count": 12,
   "metadata": {},
   "outputs": [],
   "source": [
    "for i in numerical_values:\n",
    "    df[i] = df[i].apply(lambda x: x.replace(',','.'))\n",
    "    df[i] = df[i].apply(lambda x: float(x))"
   ]
  },
  {
   "cell_type": "markdown",
   "metadata": {},
   "source": [
    "The reason why I did that was because we wouldn't be able to use that data if we don't convert;\n",
    "Also I assumed that the comma was better replaced by a decimal point \n",
    "\n",
    "I will try to analyze the other columns which are not as \"important\" as the first 8\n",
    "\n"
   ]
  },
  {
   "cell_type": "code",
   "execution_count": 13,
   "metadata": {},
   "outputs": [
    {
     "data": {
      "text/html": [
       "<div>\n",
       "<style scoped>\n",
       "    .dataframe tbody tr th:only-of-type {\n",
       "        vertical-align: middle;\n",
       "    }\n",
       "\n",
       "    .dataframe tbody tr th {\n",
       "        vertical-align: top;\n",
       "    }\n",
       "\n",
       "    .dataframe thead th {\n",
       "        text-align: right;\n",
       "    }\n",
       "</style>\n",
       "<table border=\"1\" class=\"dataframe\">\n",
       "  <thead>\n",
       "    <tr style=\"text-align: right;\">\n",
       "      <th></th>\n",
       "      <th>Flotation Column 01 Air Flow</th>\n",
       "      <th>Flotation Column 02 Air Flow</th>\n",
       "      <th>Flotation Column 03 Air Flow</th>\n",
       "      <th>Flotation Column 04 Air Flow</th>\n",
       "      <th>Flotation Column 05 Air Flow</th>\n",
       "      <th>Flotation Column 06 Air Flow</th>\n",
       "      <th>Flotation Column 07 Air Flow</th>\n",
       "    </tr>\n",
       "  </thead>\n",
       "  <tbody>\n",
       "    <tr>\n",
       "      <th>0</th>\n",
       "      <td>249.214</td>\n",
       "      <td>253.235</td>\n",
       "      <td>250.576</td>\n",
       "      <td>295.096</td>\n",
       "      <td>306.4</td>\n",
       "      <td>250.225</td>\n",
       "      <td>250.884</td>\n",
       "    </tr>\n",
       "    <tr>\n",
       "      <th>1</th>\n",
       "      <td>249.719</td>\n",
       "      <td>250.532</td>\n",
       "      <td>250.862</td>\n",
       "      <td>295.096</td>\n",
       "      <td>306.4</td>\n",
       "      <td>250.137</td>\n",
       "      <td>248.994</td>\n",
       "    </tr>\n",
       "    <tr>\n",
       "      <th>2</th>\n",
       "      <td>249.741</td>\n",
       "      <td>247.874</td>\n",
       "      <td>250.313</td>\n",
       "      <td>295.096</td>\n",
       "      <td>306.4</td>\n",
       "      <td>251.345</td>\n",
       "      <td>248.071</td>\n",
       "    </tr>\n",
       "    <tr>\n",
       "      <th>3</th>\n",
       "      <td>249.917</td>\n",
       "      <td>254.487</td>\n",
       "      <td>250.049</td>\n",
       "      <td>295.096</td>\n",
       "      <td>306.4</td>\n",
       "      <td>250.422</td>\n",
       "      <td>251.147</td>\n",
       "    </tr>\n",
       "    <tr>\n",
       "      <th>4</th>\n",
       "      <td>250.203</td>\n",
       "      <td>252.136</td>\n",
       "      <td>249.895</td>\n",
       "      <td>295.096</td>\n",
       "      <td>306.4</td>\n",
       "      <td>249.983</td>\n",
       "      <td>248.928</td>\n",
       "    </tr>\n",
       "  </tbody>\n",
       "</table>\n",
       "</div>"
      ],
      "text/plain": [
       "   Flotation Column 01 Air Flow  Flotation Column 02 Air Flow  \\\n",
       "0                       249.214                       253.235   \n",
       "1                       249.719                       250.532   \n",
       "2                       249.741                       247.874   \n",
       "3                       249.917                       254.487   \n",
       "4                       250.203                       252.136   \n",
       "\n",
       "   Flotation Column 03 Air Flow  Flotation Column 04 Air Flow  \\\n",
       "0                       250.576                       295.096   \n",
       "1                       250.862                       295.096   \n",
       "2                       250.313                       295.096   \n",
       "3                       250.049                       295.096   \n",
       "4                       249.895                       295.096   \n",
       "\n",
       "   Flotation Column 05 Air Flow  Flotation Column 06 Air Flow  \\\n",
       "0                         306.4                       250.225   \n",
       "1                         306.4                       250.137   \n",
       "2                         306.4                       251.345   \n",
       "3                         306.4                       250.422   \n",
       "4                         306.4                       249.983   \n",
       "\n",
       "   Flotation Column 07 Air Flow  \n",
       "0                       250.884  \n",
       "1                       248.994  \n",
       "2                       248.071  \n",
       "3                       251.147  \n",
       "4                       248.928  "
      ]
     },
     "execution_count": 13,
     "metadata": {},
     "output_type": "execute_result"
    }
   ],
   "source": [
    "airflow_features = df[['Flotation Column 01 Air Flow', 'Flotation Column 02 Air Flow',\n",
    "       'Flotation Column 03 Air Flow', 'Flotation Column 04 Air Flow',\n",
    "       'Flotation Column 05 Air Flow', 'Flotation Column 06 Air Flow',\n",
    "       'Flotation Column 07 Air Flow']]\n",
    "airflow_features.head()"
   ]
  },
  {
   "cell_type": "code",
   "execution_count": 14,
   "metadata": {},
   "outputs": [
    {
     "data": {
      "text/html": [
       "<div>\n",
       "<style scoped>\n",
       "    .dataframe tbody tr th:only-of-type {\n",
       "        vertical-align: middle;\n",
       "    }\n",
       "\n",
       "    .dataframe tbody tr th {\n",
       "        vertical-align: top;\n",
       "    }\n",
       "\n",
       "    .dataframe thead th {\n",
       "        text-align: right;\n",
       "    }\n",
       "</style>\n",
       "<table border=\"1\" class=\"dataframe\">\n",
       "  <thead>\n",
       "    <tr style=\"text-align: right;\">\n",
       "      <th></th>\n",
       "      <th>Flotation Column 01 Level</th>\n",
       "      <th>Flotation Column 02 Level</th>\n",
       "      <th>Flotation Column 03 Level</th>\n",
       "      <th>Flotation Column 04 Level</th>\n",
       "      <th>Flotation Column 05 Level</th>\n",
       "      <th>Flotation Column 06 Level</th>\n",
       "      <th>Flotation Column 07 Level</th>\n",
       "    </tr>\n",
       "  </thead>\n",
       "  <tbody>\n",
       "    <tr>\n",
       "      <th>0</th>\n",
       "      <td>457.396</td>\n",
       "      <td>432.962</td>\n",
       "      <td>424.954</td>\n",
       "      <td>443.558</td>\n",
       "      <td>502.255</td>\n",
       "      <td>446.370</td>\n",
       "      <td>523.344</td>\n",
       "    </tr>\n",
       "    <tr>\n",
       "      <th>1</th>\n",
       "      <td>451.891</td>\n",
       "      <td>429.560</td>\n",
       "      <td>432.939</td>\n",
       "      <td>448.086</td>\n",
       "      <td>496.363</td>\n",
       "      <td>445.922</td>\n",
       "      <td>498.075</td>\n",
       "    </tr>\n",
       "    <tr>\n",
       "      <th>2</th>\n",
       "      <td>451.240</td>\n",
       "      <td>468.927</td>\n",
       "      <td>434.610</td>\n",
       "      <td>449.688</td>\n",
       "      <td>484.411</td>\n",
       "      <td>447.826</td>\n",
       "      <td>458.567</td>\n",
       "    </tr>\n",
       "    <tr>\n",
       "      <th>3</th>\n",
       "      <td>452.441</td>\n",
       "      <td>458.165</td>\n",
       "      <td>442.865</td>\n",
       "      <td>446.210</td>\n",
       "      <td>471.411</td>\n",
       "      <td>437.690</td>\n",
       "      <td>427.669</td>\n",
       "    </tr>\n",
       "    <tr>\n",
       "      <th>4</th>\n",
       "      <td>452.441</td>\n",
       "      <td>452.900</td>\n",
       "      <td>450.523</td>\n",
       "      <td>453.670</td>\n",
       "      <td>462.598</td>\n",
       "      <td>443.682</td>\n",
       "      <td>425.679</td>\n",
       "    </tr>\n",
       "  </tbody>\n",
       "</table>\n",
       "</div>"
      ],
      "text/plain": [
       "   Flotation Column 01 Level  Flotation Column 02 Level  \\\n",
       "0                    457.396                    432.962   \n",
       "1                    451.891                    429.560   \n",
       "2                    451.240                    468.927   \n",
       "3                    452.441                    458.165   \n",
       "4                    452.441                    452.900   \n",
       "\n",
       "   Flotation Column 03 Level  Flotation Column 04 Level  \\\n",
       "0                    424.954                    443.558   \n",
       "1                    432.939                    448.086   \n",
       "2                    434.610                    449.688   \n",
       "3                    442.865                    446.210   \n",
       "4                    450.523                    453.670   \n",
       "\n",
       "   Flotation Column 05 Level  Flotation Column 06 Level  \\\n",
       "0                    502.255                    446.370   \n",
       "1                    496.363                    445.922   \n",
       "2                    484.411                    447.826   \n",
       "3                    471.411                    437.690   \n",
       "4                    462.598                    443.682   \n",
       "\n",
       "   Flotation Column 07 Level  \n",
       "0                    523.344  \n",
       "1                    498.075  \n",
       "2                    458.567  \n",
       "3                    427.669  \n",
       "4                    425.679  "
      ]
     },
     "execution_count": 14,
     "metadata": {},
     "output_type": "execute_result"
    }
   ],
   "source": [
    "column_level = df[['Flotation Column 01 Level',\n",
    "       'Flotation Column 02 Level', 'Flotation Column 03 Level',\n",
    "       'Flotation Column 04 Level', 'Flotation Column 05 Level',\n",
    "       'Flotation Column 06 Level', 'Flotation Column 07 Level']]\n",
    "column_level.head()"
   ]
  },
  {
   "cell_type": "code",
   "execution_count": 15,
   "metadata": {},
   "outputs": [
    {
     "name": "stderr",
     "output_type": "stream",
     "text": [
      "C:\\Users\\tayoo_x4di65g\\AppData\\Local\\Temp/ipykernel_22684/3084494656.py:1: SettingWithCopyWarning: \n",
      "A value is trying to be set on a copy of a slice from a DataFrame.\n",
      "Try using .loc[row_indexer,col_indexer] = value instead\n",
      "\n",
      "See the caveats in the documentation: https://pandas.pydata.org/pandas-docs/stable/user_guide/indexing.html#returning-a-view-versus-a-copy\n",
      "  airflow_features['mean'] = airflow_features.mean(axis=1)\n"
     ]
    }
   ],
   "source": [
    "airflow_features['mean'] = airflow_features.mean(axis=1)"
   ]
  },
  {
   "cell_type": "code",
   "execution_count": 16,
   "metadata": {},
   "outputs": [
    {
     "data": {
      "text/html": [
       "<div>\n",
       "<style scoped>\n",
       "    .dataframe tbody tr th:only-of-type {\n",
       "        vertical-align: middle;\n",
       "    }\n",
       "\n",
       "    .dataframe tbody tr th {\n",
       "        vertical-align: top;\n",
       "    }\n",
       "\n",
       "    .dataframe thead th {\n",
       "        text-align: right;\n",
       "    }\n",
       "</style>\n",
       "<table border=\"1\" class=\"dataframe\">\n",
       "  <thead>\n",
       "    <tr style=\"text-align: right;\">\n",
       "      <th></th>\n",
       "      <th>Flotation Column 01 Air Flow</th>\n",
       "      <th>Flotation Column 02 Air Flow</th>\n",
       "      <th>Flotation Column 03 Air Flow</th>\n",
       "      <th>Flotation Column 04 Air Flow</th>\n",
       "      <th>Flotation Column 05 Air Flow</th>\n",
       "      <th>Flotation Column 06 Air Flow</th>\n",
       "      <th>Flotation Column 07 Air Flow</th>\n",
       "      <th>mean</th>\n",
       "    </tr>\n",
       "  </thead>\n",
       "  <tbody>\n",
       "    <tr>\n",
       "      <th>0</th>\n",
       "      <td>249.214</td>\n",
       "      <td>253.235</td>\n",
       "      <td>250.576</td>\n",
       "      <td>295.096</td>\n",
       "      <td>306.4</td>\n",
       "      <td>250.225</td>\n",
       "      <td>250.884</td>\n",
       "      <td>265.090000</td>\n",
       "    </tr>\n",
       "    <tr>\n",
       "      <th>1</th>\n",
       "      <td>249.719</td>\n",
       "      <td>250.532</td>\n",
       "      <td>250.862</td>\n",
       "      <td>295.096</td>\n",
       "      <td>306.4</td>\n",
       "      <td>250.137</td>\n",
       "      <td>248.994</td>\n",
       "      <td>264.534286</td>\n",
       "    </tr>\n",
       "    <tr>\n",
       "      <th>2</th>\n",
       "      <td>249.741</td>\n",
       "      <td>247.874</td>\n",
       "      <td>250.313</td>\n",
       "      <td>295.096</td>\n",
       "      <td>306.4</td>\n",
       "      <td>251.345</td>\n",
       "      <td>248.071</td>\n",
       "      <td>264.120000</td>\n",
       "    </tr>\n",
       "    <tr>\n",
       "      <th>3</th>\n",
       "      <td>249.917</td>\n",
       "      <td>254.487</td>\n",
       "      <td>250.049</td>\n",
       "      <td>295.096</td>\n",
       "      <td>306.4</td>\n",
       "      <td>250.422</td>\n",
       "      <td>251.147</td>\n",
       "      <td>265.359714</td>\n",
       "    </tr>\n",
       "    <tr>\n",
       "      <th>4</th>\n",
       "      <td>250.203</td>\n",
       "      <td>252.136</td>\n",
       "      <td>249.895</td>\n",
       "      <td>295.096</td>\n",
       "      <td>306.4</td>\n",
       "      <td>249.983</td>\n",
       "      <td>248.928</td>\n",
       "      <td>264.663000</td>\n",
       "    </tr>\n",
       "  </tbody>\n",
       "</table>\n",
       "</div>"
      ],
      "text/plain": [
       "   Flotation Column 01 Air Flow  Flotation Column 02 Air Flow  \\\n",
       "0                       249.214                       253.235   \n",
       "1                       249.719                       250.532   \n",
       "2                       249.741                       247.874   \n",
       "3                       249.917                       254.487   \n",
       "4                       250.203                       252.136   \n",
       "\n",
       "   Flotation Column 03 Air Flow  Flotation Column 04 Air Flow  \\\n",
       "0                       250.576                       295.096   \n",
       "1                       250.862                       295.096   \n",
       "2                       250.313                       295.096   \n",
       "3                       250.049                       295.096   \n",
       "4                       249.895                       295.096   \n",
       "\n",
       "   Flotation Column 05 Air Flow  Flotation Column 06 Air Flow  \\\n",
       "0                         306.4                       250.225   \n",
       "1                         306.4                       250.137   \n",
       "2                         306.4                       251.345   \n",
       "3                         306.4                       250.422   \n",
       "4                         306.4                       249.983   \n",
       "\n",
       "   Flotation Column 07 Air Flow        mean  \n",
       "0                       250.884  265.090000  \n",
       "1                       248.994  264.534286  \n",
       "2                       248.071  264.120000  \n",
       "3                       251.147  265.359714  \n",
       "4                       248.928  264.663000  "
      ]
     },
     "execution_count": 16,
     "metadata": {},
     "output_type": "execute_result"
    }
   ],
   "source": [
    "airflow_features.head()"
   ]
  },
  {
   "cell_type": "code",
   "execution_count": 19,
   "metadata": {},
   "outputs": [
    {
     "name": "stderr",
     "output_type": "stream",
     "text": [
      "C:\\Users\\tayoo_x4di65g\\AppData\\Local\\Temp/ipykernel_22684/3839166548.py:1: SettingWithCopyWarning: \n",
      "A value is trying to be set on a copy of a slice from a DataFrame.\n",
      "Try using .loc[row_indexer,col_indexer] = value instead\n",
      "\n",
      "See the caveats in the documentation: https://pandas.pydata.org/pandas-docs/stable/user_guide/indexing.html#returning-a-view-versus-a-copy\n",
      "  airflow_features['standard_deviation'] = airflow_features.std(axis=1)\n"
     ]
    }
   ],
   "source": [
    "airflow_features['standard_deviation'] = airflow_features.std(axis=1)"
   ]
  },
  {
   "cell_type": "code",
   "execution_count": 20,
   "metadata": {},
   "outputs": [
    {
     "data": {
      "text/html": [
       "<div>\n",
       "<style scoped>\n",
       "    .dataframe tbody tr th:only-of-type {\n",
       "        vertical-align: middle;\n",
       "    }\n",
       "\n",
       "    .dataframe tbody tr th {\n",
       "        vertical-align: top;\n",
       "    }\n",
       "\n",
       "    .dataframe thead th {\n",
       "        text-align: right;\n",
       "    }\n",
       "</style>\n",
       "<table border=\"1\" class=\"dataframe\">\n",
       "  <thead>\n",
       "    <tr style=\"text-align: right;\">\n",
       "      <th></th>\n",
       "      <th>Flotation Column 01 Air Flow</th>\n",
       "      <th>Flotation Column 02 Air Flow</th>\n",
       "      <th>Flotation Column 03 Air Flow</th>\n",
       "      <th>Flotation Column 04 Air Flow</th>\n",
       "      <th>Flotation Column 05 Air Flow</th>\n",
       "      <th>Flotation Column 06 Air Flow</th>\n",
       "      <th>Flotation Column 07 Air Flow</th>\n",
       "      <th>mean</th>\n",
       "      <th>variance</th>\n",
       "      <th>standard_deviation</th>\n",
       "    </tr>\n",
       "  </thead>\n",
       "  <tbody>\n",
       "    <tr>\n",
       "      <th>0</th>\n",
       "      <td>249.214</td>\n",
       "      <td>253.235</td>\n",
       "      <td>250.576</td>\n",
       "      <td>295.096</td>\n",
       "      <td>306.4</td>\n",
       "      <td>250.225</td>\n",
       "      <td>250.884</td>\n",
       "      <td>265.090000</td>\n",
       "      <td>518.985628</td>\n",
       "      <td>87.273517</td>\n",
       "    </tr>\n",
       "    <tr>\n",
       "      <th>1</th>\n",
       "      <td>249.719</td>\n",
       "      <td>250.532</td>\n",
       "      <td>250.862</td>\n",
       "      <td>295.096</td>\n",
       "      <td>306.4</td>\n",
       "      <td>250.137</td>\n",
       "      <td>248.994</td>\n",
       "      <td>264.534286</td>\n",
       "      <td>534.003832</td>\n",
       "      <td>92.387539</td>\n",
       "    </tr>\n",
       "    <tr>\n",
       "      <th>2</th>\n",
       "      <td>249.741</td>\n",
       "      <td>247.874</td>\n",
       "      <td>250.313</td>\n",
       "      <td>295.096</td>\n",
       "      <td>306.4</td>\n",
       "      <td>251.345</td>\n",
       "      <td>248.071</td>\n",
       "      <td>264.120000</td>\n",
       "      <td>547.029058</td>\n",
       "      <td>96.807592</td>\n",
       "    </tr>\n",
       "    <tr>\n",
       "      <th>3</th>\n",
       "      <td>249.917</td>\n",
       "      <td>254.487</td>\n",
       "      <td>250.049</td>\n",
       "      <td>295.096</td>\n",
       "      <td>306.4</td>\n",
       "      <td>250.422</td>\n",
       "      <td>251.147</td>\n",
       "      <td>265.359714</td>\n",
       "      <td>512.114230</td>\n",
       "      <td>84.931796</td>\n",
       "    </tr>\n",
       "    <tr>\n",
       "      <th>4</th>\n",
       "      <td>250.203</td>\n",
       "      <td>252.136</td>\n",
       "      <td>249.895</td>\n",
       "      <td>295.096</td>\n",
       "      <td>306.4</td>\n",
       "      <td>249.983</td>\n",
       "      <td>248.928</td>\n",
       "      <td>264.663000</td>\n",
       "      <td>530.764062</td>\n",
       "      <td>91.280728</td>\n",
       "    </tr>\n",
       "  </tbody>\n",
       "</table>\n",
       "</div>"
      ],
      "text/plain": [
       "   Flotation Column 01 Air Flow  Flotation Column 02 Air Flow  \\\n",
       "0                       249.214                       253.235   \n",
       "1                       249.719                       250.532   \n",
       "2                       249.741                       247.874   \n",
       "3                       249.917                       254.487   \n",
       "4                       250.203                       252.136   \n",
       "\n",
       "   Flotation Column 03 Air Flow  Flotation Column 04 Air Flow  \\\n",
       "0                       250.576                       295.096   \n",
       "1                       250.862                       295.096   \n",
       "2                       250.313                       295.096   \n",
       "3                       250.049                       295.096   \n",
       "4                       249.895                       295.096   \n",
       "\n",
       "   Flotation Column 05 Air Flow  Flotation Column 06 Air Flow  \\\n",
       "0                         306.4                       250.225   \n",
       "1                         306.4                       250.137   \n",
       "2                         306.4                       251.345   \n",
       "3                         306.4                       250.422   \n",
       "4                         306.4                       249.983   \n",
       "\n",
       "   Flotation Column 07 Air Flow        mean    variance  standard_deviation  \n",
       "0                       250.884  265.090000  518.985628           87.273517  \n",
       "1                       248.994  264.534286  534.003832           92.387539  \n",
       "2                       248.071  264.120000  547.029058           96.807592  \n",
       "3                       251.147  265.359714  512.114230           84.931796  \n",
       "4                       248.928  264.663000  530.764062           91.280728  "
      ]
     },
     "execution_count": 20,
     "metadata": {},
     "output_type": "execute_result"
    }
   ],
   "source": [
    "airflow_features.head()"
   ]
  },
  {
   "cell_type": "code",
   "execution_count": 46,
   "metadata": {},
   "outputs": [
    {
     "data": {
      "text/plain": [
       "<seaborn.axisgrid.FacetGrid at 0x2441f4a0580>"
      ]
     },
     "execution_count": 46,
     "metadata": {},
     "output_type": "execute_result"
    },
    {
     "data": {
      "text/plain": [
       "<Figure size 720x648 with 0 Axes>"
      ]
     },
     "metadata": {},
     "output_type": "display_data"
    },
    {
     "data": {
      "image/png": "[encoded data removed]",
      "text/plain": [
       "<Figure size 360x360 with 1 Axes>"
      ]
     },
     "metadata": {
      "needs_background": "light"
     },
     "output_type": "display_data"
    }
   ],
   "source": [
    "# I have to visualize the mean to see if it is normally distributed\n",
    "plt.figure(figsize = (10,9))\n",
    "sns.displot(airflow_features['standard_deviation'])"
   ]
  },
  {
   "cell_type": "code",
   "execution_count": 45,
   "metadata": {},
   "outputs": [
    {
     "data": {
      "text/plain": [
       "<seaborn.axisgrid.FacetGrid at 0x2441f4a06d0>"
      ]
     },
     "execution_count": 45,
     "metadata": {},
     "output_type": "execute_result"
    },
    {
     "data": {
      "text/plain": [
       "<Figure size 720x648 with 0 Axes>"
      ]
     },
     "metadata": {},
     "output_type": "display_data"
    },
    {
     "data": {
      "image/png": "[encoded data removed]",
      "text/plain": [
       "<Figure size 360x360 with 1 Axes>"
      ]
     },
     "metadata": {
      "needs_background": "light"
     },
     "output_type": "display_data"
    }
   ],
   "source": [
    "plt.figure(figsize = (10,9))\n",
    "sns.displot(airflow_features['mean'])"
   ]
  },
  {
   "cell_type": "code",
   "execution_count": 35,
   "metadata": {},
   "outputs": [
    {
     "name": "stderr",
     "output_type": "stream",
     "text": [
      "C:\\Users\\tayoo_x4di65g\\AppData\\Local\\Temp/ipykernel_22684/1118189490.py:1: SettingWithCopyWarning: \n",
      "A value is trying to be set on a copy of a slice from a DataFrame.\n",
      "Try using .loc[row_indexer,col_indexer] = value instead\n",
      "\n",
      "See the caveats in the documentation: https://pandas.pydata.org/pandas-docs/stable/user_guide/indexing.html#returning-a-view-versus-a-copy\n",
      "  column_level['mean'] = column_level.mean(axis =1)\n"
     ]
    },
    {
     "data": {
      "text/html": [
       "<div>\n",
       "<style scoped>\n",
       "    .dataframe tbody tr th:only-of-type {\n",
       "        vertical-align: middle;\n",
       "    }\n",
       "\n",
       "    .dataframe tbody tr th {\n",
       "        vertical-align: top;\n",
       "    }\n",
       "\n",
       "    .dataframe thead th {\n",
       "        text-align: right;\n",
       "    }\n",
       "</style>\n",
       "<table border=\"1\" class=\"dataframe\">\n",
       "  <thead>\n",
       "    <tr style=\"text-align: right;\">\n",
       "      <th></th>\n",
       "      <th>Flotation Column 01 Level</th>\n",
       "      <th>Flotation Column 02 Level</th>\n",
       "      <th>Flotation Column 03 Level</th>\n",
       "      <th>Flotation Column 04 Level</th>\n",
       "      <th>Flotation Column 05 Level</th>\n",
       "      <th>Flotation Column 06 Level</th>\n",
       "      <th>Flotation Column 07 Level</th>\n",
       "      <th>mean</th>\n",
       "    </tr>\n",
       "  </thead>\n",
       "  <tbody>\n",
       "    <tr>\n",
       "      <th>0</th>\n",
       "      <td>457.396</td>\n",
       "      <td>432.962</td>\n",
       "      <td>424.954</td>\n",
       "      <td>443.558</td>\n",
       "      <td>502.255</td>\n",
       "      <td>446.370</td>\n",
       "      <td>523.344</td>\n",
       "      <td>461.548429</td>\n",
       "    </tr>\n",
       "    <tr>\n",
       "      <th>1</th>\n",
       "      <td>451.891</td>\n",
       "      <td>429.560</td>\n",
       "      <td>432.939</td>\n",
       "      <td>448.086</td>\n",
       "      <td>496.363</td>\n",
       "      <td>445.922</td>\n",
       "      <td>498.075</td>\n",
       "      <td>457.548000</td>\n",
       "    </tr>\n",
       "    <tr>\n",
       "      <th>2</th>\n",
       "      <td>451.240</td>\n",
       "      <td>468.927</td>\n",
       "      <td>434.610</td>\n",
       "      <td>449.688</td>\n",
       "      <td>484.411</td>\n",
       "      <td>447.826</td>\n",
       "      <td>458.567</td>\n",
       "      <td>456.467000</td>\n",
       "    </tr>\n",
       "    <tr>\n",
       "      <th>3</th>\n",
       "      <td>452.441</td>\n",
       "      <td>458.165</td>\n",
       "      <td>442.865</td>\n",
       "      <td>446.210</td>\n",
       "      <td>471.411</td>\n",
       "      <td>437.690</td>\n",
       "      <td>427.669</td>\n",
       "      <td>448.064429</td>\n",
       "    </tr>\n",
       "    <tr>\n",
       "      <th>4</th>\n",
       "      <td>452.441</td>\n",
       "      <td>452.900</td>\n",
       "      <td>450.523</td>\n",
       "      <td>453.670</td>\n",
       "      <td>462.598</td>\n",
       "      <td>443.682</td>\n",
       "      <td>425.679</td>\n",
       "      <td>448.784714</td>\n",
       "    </tr>\n",
       "  </tbody>\n",
       "</table>\n",
       "</div>"
      ],
      "text/plain": [
       "   Flotation Column 01 Level  Flotation Column 02 Level  \\\n",
       "0                    457.396                    432.962   \n",
       "1                    451.891                    429.560   \n",
       "2                    451.240                    468.927   \n",
       "3                    452.441                    458.165   \n",
       "4                    452.441                    452.900   \n",
       "\n",
       "   Flotation Column 03 Level  Flotation Column 04 Level  \\\n",
       "0                    424.954                    443.558   \n",
       "1                    432.939                    448.086   \n",
       "2                    434.610                    449.688   \n",
       "3                    442.865                    446.210   \n",
       "4                    450.523                    453.670   \n",
       "\n",
       "   Flotation Column 05 Level  Flotation Column 06 Level  \\\n",
       "0                    502.255                    446.370   \n",
       "1                    496.363                    445.922   \n",
       "2                    484.411                    447.826   \n",
       "3                    471.411                    437.690   \n",
       "4                    462.598                    443.682   \n",
       "\n",
       "   Flotation Column 07 Level        mean  \n",
       "0                    523.344  461.548429  \n",
       "1                    498.075  457.548000  \n",
       "2                    458.567  456.467000  \n",
       "3                    427.669  448.064429  \n",
       "4                    425.679  448.784714  "
      ]
     },
     "execution_count": 35,
     "metadata": {},
     "output_type": "execute_result"
    }
   ],
   "source": [
    "column_level['mean'] = column_level.mean(axis =1)\n",
    "column_level.head()"
   ]
  },
  {
   "cell_type": "code",
   "execution_count": 36,
   "metadata": {},
   "outputs": [
    {
     "name": "stderr",
     "output_type": "stream",
     "text": [
      "C:\\Users\\tayoo_x4di65g\\AppData\\Local\\Temp/ipykernel_22684/4167672255.py:1: SettingWithCopyWarning: \n",
      "A value is trying to be set on a copy of a slice from a DataFrame.\n",
      "Try using .loc[row_indexer,col_indexer] = value instead\n",
      "\n",
      "See the caveats in the documentation: https://pandas.pydata.org/pandas-docs/stable/user_guide/indexing.html#returning-a-view-versus-a-copy\n",
      "  column_level['standard_deviation'] = column_level.std(axis =1)\n"
     ]
    },
    {
     "data": {
      "text/html": [
       "<div>\n",
       "<style scoped>\n",
       "    .dataframe tbody tr th:only-of-type {\n",
       "        vertical-align: middle;\n",
       "    }\n",
       "\n",
       "    .dataframe tbody tr th {\n",
       "        vertical-align: top;\n",
       "    }\n",
       "\n",
       "    .dataframe thead th {\n",
       "        text-align: right;\n",
       "    }\n",
       "</style>\n",
       "<table border=\"1\" class=\"dataframe\">\n",
       "  <thead>\n",
       "    <tr style=\"text-align: right;\">\n",
       "      <th></th>\n",
       "      <th>Flotation Column 01 Level</th>\n",
       "      <th>Flotation Column 02 Level</th>\n",
       "      <th>Flotation Column 03 Level</th>\n",
       "      <th>Flotation Column 04 Level</th>\n",
       "      <th>Flotation Column 05 Level</th>\n",
       "      <th>Flotation Column 06 Level</th>\n",
       "      <th>Flotation Column 07 Level</th>\n",
       "      <th>mean</th>\n",
       "      <th>standard_deviation</th>\n",
       "    </tr>\n",
       "  </thead>\n",
       "  <tbody>\n",
       "    <tr>\n",
       "      <th>0</th>\n",
       "      <td>457.396</td>\n",
       "      <td>432.962</td>\n",
       "      <td>424.954</td>\n",
       "      <td>443.558</td>\n",
       "      <td>502.255</td>\n",
       "      <td>446.370</td>\n",
       "      <td>523.344</td>\n",
       "      <td>461.548429</td>\n",
       "      <td>34.233101</td>\n",
       "    </tr>\n",
       "    <tr>\n",
       "      <th>1</th>\n",
       "      <td>451.891</td>\n",
       "      <td>429.560</td>\n",
       "      <td>432.939</td>\n",
       "      <td>448.086</td>\n",
       "      <td>496.363</td>\n",
       "      <td>445.922</td>\n",
       "      <td>498.075</td>\n",
       "      <td>457.548000</td>\n",
       "      <td>26.171598</td>\n",
       "    </tr>\n",
       "    <tr>\n",
       "      <th>2</th>\n",
       "      <td>451.240</td>\n",
       "      <td>468.927</td>\n",
       "      <td>434.610</td>\n",
       "      <td>449.688</td>\n",
       "      <td>484.411</td>\n",
       "      <td>447.826</td>\n",
       "      <td>458.567</td>\n",
       "      <td>456.467000</td>\n",
       "      <td>14.958039</td>\n",
       "    </tr>\n",
       "    <tr>\n",
       "      <th>3</th>\n",
       "      <td>452.441</td>\n",
       "      <td>458.165</td>\n",
       "      <td>442.865</td>\n",
       "      <td>446.210</td>\n",
       "      <td>471.411</td>\n",
       "      <td>437.690</td>\n",
       "      <td>427.669</td>\n",
       "      <td>448.064429</td>\n",
       "      <td>13.203428</td>\n",
       "    </tr>\n",
       "    <tr>\n",
       "      <th>4</th>\n",
       "      <td>452.441</td>\n",
       "      <td>452.900</td>\n",
       "      <td>450.523</td>\n",
       "      <td>453.670</td>\n",
       "      <td>462.598</td>\n",
       "      <td>443.682</td>\n",
       "      <td>425.679</td>\n",
       "      <td>448.784714</td>\n",
       "      <td>10.743172</td>\n",
       "    </tr>\n",
       "  </tbody>\n",
       "</table>\n",
       "</div>"
      ],
      "text/plain": [
       "   Flotation Column 01 Level  Flotation Column 02 Level  \\\n",
       "0                    457.396                    432.962   \n",
       "1                    451.891                    429.560   \n",
       "2                    451.240                    468.927   \n",
       "3                    452.441                    458.165   \n",
       "4                    452.441                    452.900   \n",
       "\n",
       "   Flotation Column 03 Level  Flotation Column 04 Level  \\\n",
       "0                    424.954                    443.558   \n",
       "1                    432.939                    448.086   \n",
       "2                    434.610                    449.688   \n",
       "3                    442.865                    446.210   \n",
       "4                    450.523                    453.670   \n",
       "\n",
       "   Flotation Column 05 Level  Flotation Column 06 Level  \\\n",
       "0                    502.255                    446.370   \n",
       "1                    496.363                    445.922   \n",
       "2                    484.411                    447.826   \n",
       "3                    471.411                    437.690   \n",
       "4                    462.598                    443.682   \n",
       "\n",
       "   Flotation Column 07 Level        mean  standard_deviation  \n",
       "0                    523.344  461.548429           34.233101  \n",
       "1                    498.075  457.548000           26.171598  \n",
       "2                    458.567  456.467000           14.958039  \n",
       "3                    427.669  448.064429           13.203428  \n",
       "4                    425.679  448.784714           10.743172  "
      ]
     },
     "execution_count": 36,
     "metadata": {},
     "output_type": "execute_result"
    }
   ],
   "source": [
    "column_level['standard_deviation'] = column_level.std(axis =1)\n",
    "column_level.head()"
   ]
  },
  {
   "cell_type": "code",
   "execution_count": 44,
   "metadata": {},
   "outputs": [
    {
     "name": "stderr",
     "output_type": "stream",
     "text": [
      "C:\\Users\\tayoo_x4di65g\\AppData\\Local\\Programs\\Python\\Python310\\lib\\site-packages\\seaborn\\distributions.py:2619: FutureWarning: `distplot` is a deprecated function and will be removed in a future version. Please adapt your code to use either `displot` (a figure-level function with similar flexibility) or `histplot` (an axes-level function for histograms).\n",
      "  warnings.warn(msg, FutureWarning)\n"
     ]
    },
    {
     "data": {
      "text/plain": [
       "<AxesSubplot:xlabel='mean', ylabel='Density'>"
      ]
     },
     "execution_count": 44,
     "metadata": {},
     "output_type": "execute_result"
    },
    {
     "data": {
      "image/png": "[encoded data removed]",
      "text/plain": [
       "<Figure size 432x288 with 1 Axes>"
      ]
     },
     "metadata": {
      "needs_background": "light"
     },
     "output_type": "display_data"
    }
   ],
   "source": [
    "sns.distplot(column_level['mean'])"
   ]
  },
  {
   "cell_type": "code",
   "execution_count": 47,
   "metadata": {},
   "outputs": [
    {
     "name": "stderr",
     "output_type": "stream",
     "text": [
      "C:\\Users\\tayoo_x4di65g\\AppData\\Local\\Programs\\Python\\Python310\\lib\\site-packages\\seaborn\\distributions.py:2619: FutureWarning: `distplot` is a deprecated function and will be removed in a future version. Please adapt your code to use either `displot` (a figure-level function with similar flexibility) or `histplot` (an axes-level function for histograms).\n",
      "  warnings.warn(msg, FutureWarning)\n"
     ]
    },
    {
     "data": {
      "text/plain": [
       "<AxesSubplot:xlabel='standard_deviation', ylabel='Density'>"
      ]
     },
     "execution_count": 47,
     "metadata": {},
     "output_type": "execute_result"
    },
    {
     "data": {
      "image/png": "[encoded data removed]",
      "text/plain": [
       "<Figure size 432x288 with 1 Axes>"
      ]
     },
     "metadata": {
      "needs_background": "light"
     },
     "output_type": "display_data"
    }
   ],
   "source": [
    "sns.distplot(column_level['standard_deviation'])"
   ]
  },
  {
   "cell_type": "markdown",
   "metadata": {},
   "source": [
    "##### I can see that the distributions are not normal so I will try to build models with and without the mean column "
   ]
  },
  {
   "cell_type": "code",
   "execution_count": 29,
   "metadata": {},
   "outputs": [
    {
     "data": {
      "text/plain": [
       "Index(['date', '% Iron Feed', '% Silica Feed', 'Starch Flow', 'Amina Flow',\n",
       "       'Ore Pulp Flow', 'Ore Pulp pH', 'Ore Pulp Density',\n",
       "       'Flotation Column 01 Air Flow', 'Flotation Column 02 Air Flow',\n",
       "       'Flotation Column 03 Air Flow', 'Flotation Column 04 Air Flow',\n",
       "       'Flotation Column 05 Air Flow', 'Flotation Column 06 Air Flow',\n",
       "       'Flotation Column 07 Air Flow', 'Flotation Column 01 Level',\n",
       "       'Flotation Column 02 Level', 'Flotation Column 03 Level',\n",
       "       'Flotation Column 04 Level', 'Flotation Column 05 Level',\n",
       "       'Flotation Column 06 Level', 'Flotation Column 07 Level',\n",
       "       '% Iron Concentrate', '% Silica Concentrate', 'hours'],\n",
       "      dtype='object')"
      ]
     },
     "execution_count": 29,
     "metadata": {},
     "output_type": "execute_result"
    }
   ],
   "source": [
    "df.columns"
   ]
  },
  {
   "cell_type": "code",
   "execution_count": 30,
   "metadata": {},
   "outputs": [],
   "source": [
    "# I am going to ignore the date column and assume the hours is really what matters and not time of the year (month, day)\n",
    "important_columns = df[['hours','% Iron Feed', '% Silica Feed', 'Starch Flow', 'Amina Flow',\n",
    "       'Ore Pulp Flow', 'Ore Pulp pH', 'Ore Pulp Density']]"
   ]
  },
  {
   "cell_type": "code",
   "execution_count": 31,
   "metadata": {},
   "outputs": [
    {
     "data": {
      "text/html": [
       "<div>\n",
       "<style scoped>\n",
       "    .dataframe tbody tr th:only-of-type {\n",
       "        vertical-align: middle;\n",
       "    }\n",
       "\n",
       "    .dataframe tbody tr th {\n",
       "        vertical-align: top;\n",
       "    }\n",
       "\n",
       "    .dataframe thead th {\n",
       "        text-align: right;\n",
       "    }\n",
       "</style>\n",
       "<table border=\"1\" class=\"dataframe\">\n",
       "  <thead>\n",
       "    <tr style=\"text-align: right;\">\n",
       "      <th></th>\n",
       "      <th>hours</th>\n",
       "      <th>% Iron Feed</th>\n",
       "      <th>% Silica Feed</th>\n",
       "      <th>Starch Flow</th>\n",
       "      <th>Amina Flow</th>\n",
       "      <th>Ore Pulp Flow</th>\n",
       "      <th>Ore Pulp pH</th>\n",
       "      <th>Ore Pulp Density</th>\n",
       "    </tr>\n",
       "  </thead>\n",
       "  <tbody>\n",
       "    <tr>\n",
       "      <th>0</th>\n",
       "      <td>1</td>\n",
       "      <td>55.2</td>\n",
       "      <td>16.98</td>\n",
       "      <td>3019.53</td>\n",
       "      <td>557.434</td>\n",
       "      <td>395.713</td>\n",
       "      <td>10.0664</td>\n",
       "      <td>1.74</td>\n",
       "    </tr>\n",
       "    <tr>\n",
       "      <th>1</th>\n",
       "      <td>1</td>\n",
       "      <td>55.2</td>\n",
       "      <td>16.98</td>\n",
       "      <td>3024.41</td>\n",
       "      <td>563.965</td>\n",
       "      <td>397.383</td>\n",
       "      <td>10.0672</td>\n",
       "      <td>1.74</td>\n",
       "    </tr>\n",
       "    <tr>\n",
       "      <th>2</th>\n",
       "      <td>1</td>\n",
       "      <td>55.2</td>\n",
       "      <td>16.98</td>\n",
       "      <td>3043.46</td>\n",
       "      <td>568.054</td>\n",
       "      <td>399.668</td>\n",
       "      <td>10.0680</td>\n",
       "      <td>1.74</td>\n",
       "    </tr>\n",
       "    <tr>\n",
       "      <th>3</th>\n",
       "      <td>1</td>\n",
       "      <td>55.2</td>\n",
       "      <td>16.98</td>\n",
       "      <td>3047.36</td>\n",
       "      <td>568.665</td>\n",
       "      <td>397.939</td>\n",
       "      <td>10.0689</td>\n",
       "      <td>1.74</td>\n",
       "    </tr>\n",
       "    <tr>\n",
       "      <th>4</th>\n",
       "      <td>1</td>\n",
       "      <td>55.2</td>\n",
       "      <td>16.98</td>\n",
       "      <td>3033.69</td>\n",
       "      <td>558.167</td>\n",
       "      <td>400.254</td>\n",
       "      <td>10.0697</td>\n",
       "      <td>1.74</td>\n",
       "    </tr>\n",
       "  </tbody>\n",
       "</table>\n",
       "</div>"
      ],
      "text/plain": [
       "   hours  % Iron Feed  % Silica Feed  Starch Flow  Amina Flow  Ore Pulp Flow  \\\n",
       "0      1         55.2          16.98      3019.53     557.434        395.713   \n",
       "1      1         55.2          16.98      3024.41     563.965        397.383   \n",
       "2      1         55.2          16.98      3043.46     568.054        399.668   \n",
       "3      1         55.2          16.98      3047.36     568.665        397.939   \n",
       "4      1         55.2          16.98      3033.69     558.167        400.254   \n",
       "\n",
       "   Ore Pulp pH  Ore Pulp Density  \n",
       "0      10.0664              1.74  \n",
       "1      10.0672              1.74  \n",
       "2      10.0680              1.74  \n",
       "3      10.0689              1.74  \n",
       "4      10.0697              1.74  "
      ]
     },
     "execution_count": 31,
     "metadata": {},
     "output_type": "execute_result"
    }
   ],
   "source": [
    "important_columns.head()"
   ]
  },
  {
   "cell_type": "code",
   "execution_count": 34,
   "metadata": {},
   "outputs": [
    {
     "data": {
      "text/plain": [
       "24"
      ]
     },
     "execution_count": 34,
     "metadata": {},
     "output_type": "execute_result"
    }
   ],
   "source": [
    "important_columns['hours'].nunique() #since all the different hours of the day will be included in our model, I assume this answers objective number 2"
   ]
  },
  {
   "cell_type": "code",
   "execution_count": 48,
   "metadata": {},
   "outputs": [
    {
     "name": "stderr",
     "output_type": "stream",
     "text": [
      "C:\\Users\\tayoo_x4di65g\\AppData\\Local\\Temp/ipykernel_22684/2711520125.py:1: SettingWithCopyWarning: \n",
      "A value is trying to be set on a copy of a slice from a DataFrame.\n",
      "Try using .loc[row_indexer,col_indexer] = value instead\n",
      "\n",
      "See the caveats in the documentation: https://pandas.pydata.org/pandas-docs/stable/user_guide/indexing.html#returning-a-view-versus-a-copy\n",
      "  important_columns['airflow_mean'] = airflow_features['mean']\n",
      "C:\\Users\\tayoo_x4di65g\\AppData\\Local\\Temp/ipykernel_22684/2711520125.py:2: SettingWithCopyWarning: \n",
      "A value is trying to be set on a copy of a slice from a DataFrame.\n",
      "Try using .loc[row_indexer,col_indexer] = value instead\n",
      "\n",
      "See the caveats in the documentation: https://pandas.pydata.org/pandas-docs/stable/user_guide/indexing.html#returning-a-view-versus-a-copy\n",
      "  important_columns['column_level_mean'] = column_level['mean']\n"
     ]
    }
   ],
   "source": [
    "important_columns['airflow_mean'] = airflow_features['mean']\n",
    "important_columns['column_level_mean'] = column_level['mean']"
   ]
  },
  {
   "cell_type": "code",
   "execution_count": 50,
   "metadata": {},
   "outputs": [
    {
     "name": "stderr",
     "output_type": "stream",
     "text": [
      "C:\\Users\\tayoo_x4di65g\\AppData\\Local\\Programs\\Python\\Python310\\lib\\site-packages\\pandas\\core\\frame.py:3641: SettingWithCopyWarning: \n",
      "A value is trying to be set on a copy of a slice from a DataFrame.\n",
      "Try using .loc[row_indexer,col_indexer] = value instead\n",
      "\n",
      "See the caveats in the documentation: https://pandas.pydata.org/pandas-docs/stable/user_guide/indexing.html#returning-a-view-versus-a-copy\n",
      "  self[k1] = value[k2]\n"
     ]
    }
   ],
   "source": [
    "important_columns[['% Iron Concentrate', '% Silica Concentrate']] = df[['% Iron Concentrate', '% Silica Concentrate']]"
   ]
  },
  {
   "cell_type": "code",
   "execution_count": 51,
   "metadata": {},
   "outputs": [
    {
     "data": {
      "text/html": [
       "<div>\n",
       "<style scoped>\n",
       "    .dataframe tbody tr th:only-of-type {\n",
       "        vertical-align: middle;\n",
       "    }\n",
       "\n",
       "    .dataframe tbody tr th {\n",
       "        vertical-align: top;\n",
       "    }\n",
       "\n",
       "    .dataframe thead th {\n",
       "        text-align: right;\n",
       "    }\n",
       "</style>\n",
       "<table border=\"1\" class=\"dataframe\">\n",
       "  <thead>\n",
       "    <tr style=\"text-align: right;\">\n",
       "      <th></th>\n",
       "      <th>hours</th>\n",
       "      <th>% Iron Feed</th>\n",
       "      <th>% Silica Feed</th>\n",
       "      <th>Starch Flow</th>\n",
       "      <th>Amina Flow</th>\n",
       "      <th>Ore Pulp Flow</th>\n",
       "      <th>Ore Pulp pH</th>\n",
       "      <th>Ore Pulp Density</th>\n",
       "      <th>airflow_mean</th>\n",
       "      <th>column_level_mean</th>\n",
       "      <th>% Iron Concentrate</th>\n",
       "      <th>% Silica Concentrate</th>\n",
       "    </tr>\n",
       "  </thead>\n",
       "  <tbody>\n",
       "    <tr>\n",
       "      <th>0</th>\n",
       "      <td>1</td>\n",
       "      <td>55.20</td>\n",
       "      <td>16.98</td>\n",
       "      <td>3019.53</td>\n",
       "      <td>557.434</td>\n",
       "      <td>395.713</td>\n",
       "      <td>10.06640</td>\n",
       "      <td>1.74000</td>\n",
       "      <td>265.090000</td>\n",
       "      <td>461.548429</td>\n",
       "      <td>66.91</td>\n",
       "      <td>1.31</td>\n",
       "    </tr>\n",
       "    <tr>\n",
       "      <th>1</th>\n",
       "      <td>1</td>\n",
       "      <td>55.20</td>\n",
       "      <td>16.98</td>\n",
       "      <td>3024.41</td>\n",
       "      <td>563.965</td>\n",
       "      <td>397.383</td>\n",
       "      <td>10.06720</td>\n",
       "      <td>1.74000</td>\n",
       "      <td>264.534286</td>\n",
       "      <td>457.548000</td>\n",
       "      <td>66.91</td>\n",
       "      <td>1.31</td>\n",
       "    </tr>\n",
       "    <tr>\n",
       "      <th>2</th>\n",
       "      <td>1</td>\n",
       "      <td>55.20</td>\n",
       "      <td>16.98</td>\n",
       "      <td>3043.46</td>\n",
       "      <td>568.054</td>\n",
       "      <td>399.668</td>\n",
       "      <td>10.06800</td>\n",
       "      <td>1.74000</td>\n",
       "      <td>264.120000</td>\n",
       "      <td>456.467000</td>\n",
       "      <td>66.91</td>\n",
       "      <td>1.31</td>\n",
       "    </tr>\n",
       "    <tr>\n",
       "      <th>3</th>\n",
       "      <td>1</td>\n",
       "      <td>55.20</td>\n",
       "      <td>16.98</td>\n",
       "      <td>3047.36</td>\n",
       "      <td>568.665</td>\n",
       "      <td>397.939</td>\n",
       "      <td>10.06890</td>\n",
       "      <td>1.74000</td>\n",
       "      <td>265.359714</td>\n",
       "      <td>448.064429</td>\n",
       "      <td>66.91</td>\n",
       "      <td>1.31</td>\n",
       "    </tr>\n",
       "    <tr>\n",
       "      <th>4</th>\n",
       "      <td>1</td>\n",
       "      <td>55.20</td>\n",
       "      <td>16.98</td>\n",
       "      <td>3033.69</td>\n",
       "      <td>558.167</td>\n",
       "      <td>400.254</td>\n",
       "      <td>10.06970</td>\n",
       "      <td>1.74000</td>\n",
       "      <td>264.663000</td>\n",
       "      <td>448.784714</td>\n",
       "      <td>66.91</td>\n",
       "      <td>1.31</td>\n",
       "    </tr>\n",
       "    <tr>\n",
       "      <th>...</th>\n",
       "      <td>...</td>\n",
       "      <td>...</td>\n",
       "      <td>...</td>\n",
       "      <td>...</td>\n",
       "      <td>...</td>\n",
       "      <td>...</td>\n",
       "      <td>...</td>\n",
       "      <td>...</td>\n",
       "      <td>...</td>\n",
       "      <td>...</td>\n",
       "      <td>...</td>\n",
       "      <td>...</td>\n",
       "    </tr>\n",
       "    <tr>\n",
       "      <th>737448</th>\n",
       "      <td>23</td>\n",
       "      <td>49.75</td>\n",
       "      <td>23.20</td>\n",
       "      <td>2710.94</td>\n",
       "      <td>441.052</td>\n",
       "      <td>386.570</td>\n",
       "      <td>9.62129</td>\n",
       "      <td>1.65365</td>\n",
       "      <td>308.617857</td>\n",
       "      <td>496.341714</td>\n",
       "      <td>64.27</td>\n",
       "      <td>1.71</td>\n",
       "    </tr>\n",
       "    <tr>\n",
       "      <th>737449</th>\n",
       "      <td>23</td>\n",
       "      <td>49.75</td>\n",
       "      <td>23.20</td>\n",
       "      <td>2692.01</td>\n",
       "      <td>473.436</td>\n",
       "      <td>384.939</td>\n",
       "      <td>9.62063</td>\n",
       "      <td>1.65352</td>\n",
       "      <td>295.896714</td>\n",
       "      <td>484.948143</td>\n",
       "      <td>64.27</td>\n",
       "      <td>1.71</td>\n",
       "    </tr>\n",
       "    <tr>\n",
       "      <th>737450</th>\n",
       "      <td>23</td>\n",
       "      <td>49.75</td>\n",
       "      <td>23.20</td>\n",
       "      <td>2692.20</td>\n",
       "      <td>500.488</td>\n",
       "      <td>383.496</td>\n",
       "      <td>9.61874</td>\n",
       "      <td>1.65338</td>\n",
       "      <td>295.092714</td>\n",
       "      <td>481.131857</td>\n",
       "      <td>64.27</td>\n",
       "      <td>1.71</td>\n",
       "    </tr>\n",
       "    <tr>\n",
       "      <th>737451</th>\n",
       "      <td>23</td>\n",
       "      <td>49.75</td>\n",
       "      <td>23.20</td>\n",
       "      <td>1164.12</td>\n",
       "      <td>491.548</td>\n",
       "      <td>384.976</td>\n",
       "      <td>9.61686</td>\n",
       "      <td>1.65324</td>\n",
       "      <td>308.616143</td>\n",
       "      <td>490.420000</td>\n",
       "      <td>64.27</td>\n",
       "      <td>1.71</td>\n",
       "    </tr>\n",
       "    <tr>\n",
       "      <th>737452</th>\n",
       "      <td>23</td>\n",
       "      <td>49.75</td>\n",
       "      <td>23.20</td>\n",
       "      <td>1164.12</td>\n",
       "      <td>468.019</td>\n",
       "      <td>384.801</td>\n",
       "      <td>9.61497</td>\n",
       "      <td>1.65310</td>\n",
       "      <td>308.362286</td>\n",
       "      <td>500.546429</td>\n",
       "      <td>64.27</td>\n",
       "      <td>1.71</td>\n",
       "    </tr>\n",
       "  </tbody>\n",
       "</table>\n",
       "<p>737453 rows × 12 columns</p>\n",
       "</div>"
      ],
      "text/plain": [
       "        hours  % Iron Feed  % Silica Feed  Starch Flow  Amina Flow  \\\n",
       "0           1        55.20          16.98      3019.53     557.434   \n",
       "1           1        55.20          16.98      3024.41     563.965   \n",
       "2           1        55.20          16.98      3043.46     568.054   \n",
       "3           1        55.20          16.98      3047.36     568.665   \n",
       "4           1        55.20          16.98      3033.69     558.167   \n",
       "...       ...          ...            ...          ...         ...   \n",
       "737448     23        49.75          23.20      2710.94     441.052   \n",
       "737449     23        49.75          23.20      2692.01     473.436   \n",
       "737450     23        49.75          23.20      2692.20     500.488   \n",
       "737451     23        49.75          23.20      1164.12     491.548   \n",
       "737452     23        49.75          23.20      1164.12     468.019   \n",
       "\n",
       "        Ore Pulp Flow  Ore Pulp pH  Ore Pulp Density  airflow_mean  \\\n",
       "0             395.713     10.06640           1.74000    265.090000   \n",
       "1             397.383     10.06720           1.74000    264.534286   \n",
       "2             399.668     10.06800           1.74000    264.120000   \n",
       "3             397.939     10.06890           1.74000    265.359714   \n",
       "4             400.254     10.06970           1.74000    264.663000   \n",
       "...               ...          ...               ...           ...   \n",
       "737448        386.570      9.62129           1.65365    308.617857   \n",
       "737449        384.939      9.62063           1.65352    295.896714   \n",
       "737450        383.496      9.61874           1.65338    295.092714   \n",
       "737451        384.976      9.61686           1.65324    308.616143   \n",
       "737452        384.801      9.61497           1.65310    308.362286   \n",
       "\n",
       "        column_level_mean  % Iron Concentrate  % Silica Concentrate  \n",
       "0              461.548429               66.91                  1.31  \n",
       "1              457.548000               66.91                  1.31  \n",
       "2              456.467000               66.91                  1.31  \n",
       "3              448.064429               66.91                  1.31  \n",
       "4              448.784714               66.91                  1.31  \n",
       "...                   ...                 ...                   ...  \n",
       "737448         496.341714               64.27                  1.71  \n",
       "737449         484.948143               64.27                  1.71  \n",
       "737450         481.131857               64.27                  1.71  \n",
       "737451         490.420000               64.27                  1.71  \n",
       "737452         500.546429               64.27                  1.71  \n",
       "\n",
       "[737453 rows x 12 columns]"
      ]
     },
     "execution_count": 51,
     "metadata": {},
     "output_type": "execute_result"
    }
   ],
   "source": [
    "important_columns"
   ]
  },
  {
   "cell_type": "code",
   "execution_count": null,
   "metadata": {},
   "outputs": [],
   "source": [
    "# First, let us look at objective 3 again #\n",
    "# Is it possible to predict % Silica in Concentrate whitout using % Iron Concentrate column (as they are highly correlated)?"
   ]
  },
  {
   "cell_type": "code",
   "execution_count": 56,
   "metadata": {},
   "outputs": [
    {
     "data": {
      "text/plain": [
       "<seaborn.axisgrid.FacetGrid at 0x2446cd13e80>"
      ]
     },
     "execution_count": 56,
     "metadata": {},
     "output_type": "execute_result"
    },
    {
     "data": {
      "image/png": "[encoded data removed]",
      "text/plain": [
       "<Figure size 360x360 with 1 Axes>"
      ]
     },
     "metadata": {
      "needs_background": "light"
     },
     "output_type": "display_data"
    }
   ],
   "source": [
    "sns.lmplot(x='% Iron Concentrate', y= '% Silica Concentrate', data = important_columns)"
   ]
  },
  {
   "cell_type": "markdown",
   "metadata": {},
   "source": [
    "##### They're inversely related, might not be crystal clear but that's what the trend shows and that makes sense, it's a percentage basis, more of one means less of the other"
   ]
  },
  {
   "cell_type": "code",
   "execution_count": 64,
   "metadata": {},
   "outputs": [
    {
     "data": {
      "text/html": [
       "<div>\n",
       "<style scoped>\n",
       "    .dataframe tbody tr th:only-of-type {\n",
       "        vertical-align: middle;\n",
       "    }\n",
       "\n",
       "    .dataframe tbody tr th {\n",
       "        vertical-align: top;\n",
       "    }\n",
       "\n",
       "    .dataframe thead th {\n",
       "        text-align: right;\n",
       "    }\n",
       "</style>\n",
       "<table border=\"1\" class=\"dataframe\">\n",
       "  <thead>\n",
       "    <tr style=\"text-align: right;\">\n",
       "      <th></th>\n",
       "      <th>hours</th>\n",
       "      <th>% Iron Feed</th>\n",
       "      <th>% Silica Feed</th>\n",
       "      <th>Starch Flow</th>\n",
       "      <th>Amina Flow</th>\n",
       "      <th>Ore Pulp Flow</th>\n",
       "      <th>Ore Pulp pH</th>\n",
       "      <th>Ore Pulp Density</th>\n",
       "      <th>airflow_mean</th>\n",
       "      <th>column_level_mean</th>\n",
       "      <th>% Iron Concentrate</th>\n",
       "      <th>% Silica Concentrate</th>\n",
       "    </tr>\n",
       "  </thead>\n",
       "  <tbody>\n",
       "    <tr>\n",
       "      <th>453413</th>\n",
       "      <td>6</td>\n",
       "      <td>47.79</td>\n",
       "      <td>27.08</td>\n",
       "      <td>6014.51</td>\n",
       "      <td>545.004</td>\n",
       "      <td>404.941</td>\n",
       "      <td>10.3682</td>\n",
       "      <td>1.77036</td>\n",
       "      <td>300.922429</td>\n",
       "      <td>465.692000</td>\n",
       "      <td>68.01</td>\n",
       "      <td>1.38</td>\n",
       "    </tr>\n",
       "    <tr>\n",
       "      <th>453414</th>\n",
       "      <td>6</td>\n",
       "      <td>47.79</td>\n",
       "      <td>27.08</td>\n",
       "      <td>5844.18</td>\n",
       "      <td>544.919</td>\n",
       "      <td>405.238</td>\n",
       "      <td>10.3724</td>\n",
       "      <td>1.77040</td>\n",
       "      <td>297.729286</td>\n",
       "      <td>475.603429</td>\n",
       "      <td>68.01</td>\n",
       "      <td>1.38</td>\n",
       "    </tr>\n",
       "    <tr>\n",
       "      <th>453415</th>\n",
       "      <td>6</td>\n",
       "      <td>47.79</td>\n",
       "      <td>27.08</td>\n",
       "      <td>5692.20</td>\n",
       "      <td>551.313</td>\n",
       "      <td>398.356</td>\n",
       "      <td>10.3765</td>\n",
       "      <td>1.77043</td>\n",
       "      <td>298.300143</td>\n",
       "      <td>487.285000</td>\n",
       "      <td>68.01</td>\n",
       "      <td>1.38</td>\n",
       "    </tr>\n",
       "    <tr>\n",
       "      <th>453416</th>\n",
       "      <td>6</td>\n",
       "      <td>47.79</td>\n",
       "      <td>27.08</td>\n",
       "      <td>5567.63</td>\n",
       "      <td>545.244</td>\n",
       "      <td>404.124</td>\n",
       "      <td>10.3804</td>\n",
       "      <td>1.77047</td>\n",
       "      <td>300.203857</td>\n",
       "      <td>487.283571</td>\n",
       "      <td>68.01</td>\n",
       "      <td>1.38</td>\n",
       "    </tr>\n",
       "    <tr>\n",
       "      <th>453417</th>\n",
       "      <td>6</td>\n",
       "      <td>47.79</td>\n",
       "      <td>27.08</td>\n",
       "      <td>5449.49</td>\n",
       "      <td>547.536</td>\n",
       "      <td>386.188</td>\n",
       "      <td>10.3815</td>\n",
       "      <td>1.77050</td>\n",
       "      <td>300.937000</td>\n",
       "      <td>483.185571</td>\n",
       "      <td>68.01</td>\n",
       "      <td>1.38</td>\n",
       "    </tr>\n",
       "    <tr>\n",
       "      <th>...</th>\n",
       "      <td>...</td>\n",
       "      <td>...</td>\n",
       "      <td>...</td>\n",
       "      <td>...</td>\n",
       "      <td>...</td>\n",
       "      <td>...</td>\n",
       "      <td>...</td>\n",
       "      <td>...</td>\n",
       "      <td>...</td>\n",
       "      <td>...</td>\n",
       "      <td>...</td>\n",
       "      <td>...</td>\n",
       "    </tr>\n",
       "    <tr>\n",
       "      <th>453588</th>\n",
       "      <td>6</td>\n",
       "      <td>47.79</td>\n",
       "      <td>27.08</td>\n",
       "      <td>3011.24</td>\n",
       "      <td>483.231</td>\n",
       "      <td>396.766</td>\n",
       "      <td>10.5424</td>\n",
       "      <td>1.68898</td>\n",
       "      <td>302.032000</td>\n",
       "      <td>482.916714</td>\n",
       "      <td>68.01</td>\n",
       "      <td>1.38</td>\n",
       "    </tr>\n",
       "    <tr>\n",
       "      <th>453589</th>\n",
       "      <td>6</td>\n",
       "      <td>47.79</td>\n",
       "      <td>27.08</td>\n",
       "      <td>3022.47</td>\n",
       "      <td>488.706</td>\n",
       "      <td>404.220</td>\n",
       "      <td>10.5450</td>\n",
       "      <td>1.68867</td>\n",
       "      <td>297.508429</td>\n",
       "      <td>489.135571</td>\n",
       "      <td>68.01</td>\n",
       "      <td>1.38</td>\n",
       "    </tr>\n",
       "    <tr>\n",
       "      <th>453590</th>\n",
       "      <td>6</td>\n",
       "      <td>47.79</td>\n",
       "      <td>27.08</td>\n",
       "      <td>3044.90</td>\n",
       "      <td>483.523</td>\n",
       "      <td>402.045</td>\n",
       "      <td>10.5476</td>\n",
       "      <td>1.68835</td>\n",
       "      <td>299.380286</td>\n",
       "      <td>494.679000</td>\n",
       "      <td>68.01</td>\n",
       "      <td>1.38</td>\n",
       "    </tr>\n",
       "    <tr>\n",
       "      <th>453591</th>\n",
       "      <td>6</td>\n",
       "      <td>47.79</td>\n",
       "      <td>27.08</td>\n",
       "      <td>3091.51</td>\n",
       "      <td>488.744</td>\n",
       "      <td>396.982</td>\n",
       "      <td>10.5460</td>\n",
       "      <td>1.68804</td>\n",
       "      <td>299.731286</td>\n",
       "      <td>509.419000</td>\n",
       "      <td>68.01</td>\n",
       "      <td>1.38</td>\n",
       "    </tr>\n",
       "    <tr>\n",
       "      <th>453592</th>\n",
       "      <td>6</td>\n",
       "      <td>47.79</td>\n",
       "      <td>27.08</td>\n",
       "      <td>3145.61</td>\n",
       "      <td>492.751</td>\n",
       "      <td>401.066</td>\n",
       "      <td>10.5438</td>\n",
       "      <td>1.68773</td>\n",
       "      <td>297.092429</td>\n",
       "      <td>510.718286</td>\n",
       "      <td>68.01</td>\n",
       "      <td>1.38</td>\n",
       "    </tr>\n",
       "  </tbody>\n",
       "</table>\n",
       "<p>180 rows × 12 columns</p>\n",
       "</div>"
      ],
      "text/plain": [
       "        hours  % Iron Feed  % Silica Feed  Starch Flow  Amina Flow  \\\n",
       "453413      6        47.79          27.08      6014.51     545.004   \n",
       "453414      6        47.79          27.08      5844.18     544.919   \n",
       "453415      6        47.79          27.08      5692.20     551.313   \n",
       "453416      6        47.79          27.08      5567.63     545.244   \n",
       "453417      6        47.79          27.08      5449.49     547.536   \n",
       "...       ...          ...            ...          ...         ...   \n",
       "453588      6        47.79          27.08      3011.24     483.231   \n",
       "453589      6        47.79          27.08      3022.47     488.706   \n",
       "453590      6        47.79          27.08      3044.90     483.523   \n",
       "453591      6        47.79          27.08      3091.51     488.744   \n",
       "453592      6        47.79          27.08      3145.61     492.751   \n",
       "\n",
       "        Ore Pulp Flow  Ore Pulp pH  Ore Pulp Density  airflow_mean  \\\n",
       "453413        404.941      10.3682           1.77036    300.922429   \n",
       "453414        405.238      10.3724           1.77040    297.729286   \n",
       "453415        398.356      10.3765           1.77043    298.300143   \n",
       "453416        404.124      10.3804           1.77047    300.203857   \n",
       "453417        386.188      10.3815           1.77050    300.937000   \n",
       "...               ...          ...               ...           ...   \n",
       "453588        396.766      10.5424           1.68898    302.032000   \n",
       "453589        404.220      10.5450           1.68867    297.508429   \n",
       "453590        402.045      10.5476           1.68835    299.380286   \n",
       "453591        396.982      10.5460           1.68804    299.731286   \n",
       "453592        401.066      10.5438           1.68773    297.092429   \n",
       "\n",
       "        column_level_mean  % Iron Concentrate  % Silica Concentrate  \n",
       "453413         465.692000               68.01                  1.38  \n",
       "453414         475.603429               68.01                  1.38  \n",
       "453415         487.285000               68.01                  1.38  \n",
       "453416         487.283571               68.01                  1.38  \n",
       "453417         483.185571               68.01                  1.38  \n",
       "...                   ...                 ...                   ...  \n",
       "453588         482.916714               68.01                  1.38  \n",
       "453589         489.135571               68.01                  1.38  \n",
       "453590         494.679000               68.01                  1.38  \n",
       "453591         509.419000               68.01                  1.38  \n",
       "453592         510.718286               68.01                  1.38  \n",
       "\n",
       "[180 rows x 12 columns]"
      ]
     },
     "execution_count": 64,
     "metadata": {},
     "output_type": "execute_result"
    }
   ],
   "source": [
    "important_columns[  important_columns['% Iron Concentrate'] ==important_columns['% Iron Concentrate'].max()]"
   ]
  },
  {
   "cell_type": "code",
   "execution_count": 67,
   "metadata": {},
   "outputs": [
    {
     "data": {
      "text/plain": [
       "65.05006799077364"
      ]
     },
     "execution_count": 67,
     "metadata": {},
     "output_type": "execute_result"
    }
   ],
   "source": [
    "important_columns['% Iron Concentrate'].mean()"
   ]
  },
  {
   "cell_type": "code",
   "execution_count": 66,
   "metadata": {},
   "outputs": [
    {
     "data": {
      "text/plain": [
       "2.326763251352968"
      ]
     },
     "execution_count": 66,
     "metadata": {},
     "output_type": "execute_result"
    }
   ],
   "source": [
    "important_columns['% Silica Concentrate'].mean()"
   ]
  },
  {
   "cell_type": "code",
   "execution_count": 65,
   "metadata": {},
   "outputs": [
    {
     "data": {
      "text/html": [
       "<div>\n",
       "<style scoped>\n",
       "    .dataframe tbody tr th:only-of-type {\n",
       "        vertical-align: middle;\n",
       "    }\n",
       "\n",
       "    .dataframe tbody tr th {\n",
       "        vertical-align: top;\n",
       "    }\n",
       "\n",
       "    .dataframe thead th {\n",
       "        text-align: right;\n",
       "    }\n",
       "</style>\n",
       "<table border=\"1\" class=\"dataframe\">\n",
       "  <thead>\n",
       "    <tr style=\"text-align: right;\">\n",
       "      <th></th>\n",
       "      <th>hours</th>\n",
       "      <th>% Iron Feed</th>\n",
       "      <th>% Silica Feed</th>\n",
       "      <th>Starch Flow</th>\n",
       "      <th>Amina Flow</th>\n",
       "      <th>Ore Pulp Flow</th>\n",
       "      <th>Ore Pulp pH</th>\n",
       "      <th>Ore Pulp Density</th>\n",
       "      <th>airflow_mean</th>\n",
       "      <th>column_level_mean</th>\n",
       "      <th>% Iron Concentrate</th>\n",
       "      <th>% Silica Concentrate</th>\n",
       "    </tr>\n",
       "  </thead>\n",
       "  <tbody>\n",
       "    <tr>\n",
       "      <th>615413</th>\n",
       "      <td>18</td>\n",
       "      <td>48.81</td>\n",
       "      <td>25.31</td>\n",
       "      <td>3994.20</td>\n",
       "      <td>445.584</td>\n",
       "      <td>377.1880</td>\n",
       "      <td>10.4300</td>\n",
       "      <td>1.69055</td>\n",
       "      <td>292.852571</td>\n",
       "      <td>511.870000</td>\n",
       "      <td>66.57</td>\n",
       "      <td>0.6</td>\n",
       "    </tr>\n",
       "    <tr>\n",
       "      <th>615414</th>\n",
       "      <td>18</td>\n",
       "      <td>48.81</td>\n",
       "      <td>25.31</td>\n",
       "      <td>4016.17</td>\n",
       "      <td>436.711</td>\n",
       "      <td>376.9425</td>\n",
       "      <td>10.4287</td>\n",
       "      <td>1.69084</td>\n",
       "      <td>290.480571</td>\n",
       "      <td>505.885429</td>\n",
       "      <td>66.57</td>\n",
       "      <td>0.6</td>\n",
       "    </tr>\n",
       "    <tr>\n",
       "      <th>615415</th>\n",
       "      <td>18</td>\n",
       "      <td>48.81</td>\n",
       "      <td>25.31</td>\n",
       "      <td>4062.65</td>\n",
       "      <td>477.860</td>\n",
       "      <td>376.6970</td>\n",
       "      <td>10.4274</td>\n",
       "      <td>1.69113</td>\n",
       "      <td>292.257714</td>\n",
       "      <td>525.719286</td>\n",
       "      <td>66.57</td>\n",
       "      <td>0.6</td>\n",
       "    </tr>\n",
       "    <tr>\n",
       "      <th>615416</th>\n",
       "      <td>18</td>\n",
       "      <td>48.81</td>\n",
       "      <td>25.31</td>\n",
       "      <td>4078.01</td>\n",
       "      <td>478.430</td>\n",
       "      <td>379.3210</td>\n",
       "      <td>10.4261</td>\n",
       "      <td>1.69142</td>\n",
       "      <td>295.084571</td>\n",
       "      <td>524.433429</td>\n",
       "      <td>66.57</td>\n",
       "      <td>0.6</td>\n",
       "    </tr>\n",
       "    <tr>\n",
       "      <th>615417</th>\n",
       "      <td>18</td>\n",
       "      <td>48.81</td>\n",
       "      <td>25.31</td>\n",
       "      <td>4063.95</td>\n",
       "      <td>524.298</td>\n",
       "      <td>382.5740</td>\n",
       "      <td>10.4248</td>\n",
       "      <td>1.69171</td>\n",
       "      <td>294.435143</td>\n",
       "      <td>530.067000</td>\n",
       "      <td>66.57</td>\n",
       "      <td>0.6</td>\n",
       "    </tr>\n",
       "    <tr>\n",
       "      <th>...</th>\n",
       "      <td>...</td>\n",
       "      <td>...</td>\n",
       "      <td>...</td>\n",
       "      <td>...</td>\n",
       "      <td>...</td>\n",
       "      <td>...</td>\n",
       "      <td>...</td>\n",
       "      <td>...</td>\n",
       "      <td>...</td>\n",
       "      <td>...</td>\n",
       "      <td>...</td>\n",
       "      <td>...</td>\n",
       "    </tr>\n",
       "    <tr>\n",
       "      <th>615588</th>\n",
       "      <td>18</td>\n",
       "      <td>48.81</td>\n",
       "      <td>25.31</td>\n",
       "      <td>3882.35</td>\n",
       "      <td>413.545</td>\n",
       "      <td>378.6800</td>\n",
       "      <td>10.1444</td>\n",
       "      <td>1.69889</td>\n",
       "      <td>286.808181</td>\n",
       "      <td>544.855714</td>\n",
       "      <td>66.57</td>\n",
       "      <td>0.6</td>\n",
       "    </tr>\n",
       "    <tr>\n",
       "      <th>615589</th>\n",
       "      <td>18</td>\n",
       "      <td>48.81</td>\n",
       "      <td>25.31</td>\n",
       "      <td>3840.34</td>\n",
       "      <td>411.589</td>\n",
       "      <td>377.0780</td>\n",
       "      <td>10.1426</td>\n",
       "      <td>1.69918</td>\n",
       "      <td>286.801429</td>\n",
       "      <td>544.131571</td>\n",
       "      <td>66.57</td>\n",
       "      <td>0.6</td>\n",
       "    </tr>\n",
       "    <tr>\n",
       "      <th>615590</th>\n",
       "      <td>18</td>\n",
       "      <td>48.81</td>\n",
       "      <td>25.31</td>\n",
       "      <td>3798.59</td>\n",
       "      <td>475.327</td>\n",
       "      <td>378.9590</td>\n",
       "      <td>10.1408</td>\n",
       "      <td>1.69948</td>\n",
       "      <td>287.135677</td>\n",
       "      <td>547.339286</td>\n",
       "      <td>66.57</td>\n",
       "      <td>0.6</td>\n",
       "    </tr>\n",
       "    <tr>\n",
       "      <th>615591</th>\n",
       "      <td>18</td>\n",
       "      <td>48.81</td>\n",
       "      <td>25.31</td>\n",
       "      <td>3752.01</td>\n",
       "      <td>462.965</td>\n",
       "      <td>379.5580</td>\n",
       "      <td>10.1391</td>\n",
       "      <td>1.69977</td>\n",
       "      <td>285.721069</td>\n",
       "      <td>546.426000</td>\n",
       "      <td>66.57</td>\n",
       "      <td>0.6</td>\n",
       "    </tr>\n",
       "    <tr>\n",
       "      <th>615592</th>\n",
       "      <td>18</td>\n",
       "      <td>48.81</td>\n",
       "      <td>25.31</td>\n",
       "      <td>3718.38</td>\n",
       "      <td>426.454</td>\n",
       "      <td>382.4000</td>\n",
       "      <td>10.1373</td>\n",
       "      <td>1.70007</td>\n",
       "      <td>284.869317</td>\n",
       "      <td>542.466000</td>\n",
       "      <td>66.57</td>\n",
       "      <td>0.6</td>\n",
       "    </tr>\n",
       "  </tbody>\n",
       "</table>\n",
       "<p>180 rows × 12 columns</p>\n",
       "</div>"
      ],
      "text/plain": [
       "        hours  % Iron Feed  % Silica Feed  Starch Flow  Amina Flow  \\\n",
       "615413     18        48.81          25.31      3994.20     445.584   \n",
       "615414     18        48.81          25.31      4016.17     436.711   \n",
       "615415     18        48.81          25.31      4062.65     477.860   \n",
       "615416     18        48.81          25.31      4078.01     478.430   \n",
       "615417     18        48.81          25.31      4063.95     524.298   \n",
       "...       ...          ...            ...          ...         ...   \n",
       "615588     18        48.81          25.31      3882.35     413.545   \n",
       "615589     18        48.81          25.31      3840.34     411.589   \n",
       "615590     18        48.81          25.31      3798.59     475.327   \n",
       "615591     18        48.81          25.31      3752.01     462.965   \n",
       "615592     18        48.81          25.31      3718.38     426.454   \n",
       "\n",
       "        Ore Pulp Flow  Ore Pulp pH  Ore Pulp Density  airflow_mean  \\\n",
       "615413       377.1880      10.4300           1.69055    292.852571   \n",
       "615414       376.9425      10.4287           1.69084    290.480571   \n",
       "615415       376.6970      10.4274           1.69113    292.257714   \n",
       "615416       379.3210      10.4261           1.69142    295.084571   \n",
       "615417       382.5740      10.4248           1.69171    294.435143   \n",
       "...               ...          ...               ...           ...   \n",
       "615588       378.6800      10.1444           1.69889    286.808181   \n",
       "615589       377.0780      10.1426           1.69918    286.801429   \n",
       "615590       378.9590      10.1408           1.69948    287.135677   \n",
       "615591       379.5580      10.1391           1.69977    285.721069   \n",
       "615592       382.4000      10.1373           1.70007    284.869317   \n",
       "\n",
       "        column_level_mean  % Iron Concentrate  % Silica Concentrate  \n",
       "615413         511.870000               66.57                   0.6  \n",
       "615414         505.885429               66.57                   0.6  \n",
       "615415         525.719286               66.57                   0.6  \n",
       "615416         524.433429               66.57                   0.6  \n",
       "615417         530.067000               66.57                   0.6  \n",
       "...                   ...                 ...                   ...  \n",
       "615588         544.855714               66.57                   0.6  \n",
       "615589         544.131571               66.57                   0.6  \n",
       "615590         547.339286               66.57                   0.6  \n",
       "615591         546.426000               66.57                   0.6  \n",
       "615592         542.466000               66.57                   0.6  \n",
       "\n",
       "[180 rows x 12 columns]"
      ]
     },
     "execution_count": 65,
     "metadata": {},
     "output_type": "execute_result"
    }
   ],
   "source": [
    "important_columns[important_columns['% Silica Concentrate']==  important_columns['% Silica Concentrate'].min()]"
   ]
  },
  {
   "cell_type": "markdown",
   "metadata": {},
   "source": [
    "##### I will build two linear regression models to predict the Iron concentrate and Silica concentrate \n",
    "##### I will also classify the product by comparing with the average iron and silica concentrate"
   ]
  },
  {
   "cell_type": "code",
   "execution_count": 69,
   "metadata": {},
   "outputs": [],
   "source": [
    "from sklearn.model_selection import train_test_split"
   ]
  },
  {
   "cell_type": "code",
   "execution_count": 70,
   "metadata": {},
   "outputs": [
    {
     "data": {
      "text/plain": [
       "Index(['hours', '% Iron Feed', '% Silica Feed', 'Starch Flow', 'Amina Flow',\n",
       "       'Ore Pulp Flow', 'Ore Pulp pH', 'Ore Pulp Density', 'airflow_mean',\n",
       "       'column_level_mean', '% Iron Concentrate', '% Silica Concentrate'],\n",
       "      dtype='object')"
      ]
     },
     "execution_count": 70,
     "metadata": {},
     "output_type": "execute_result"
    }
   ],
   "source": [
    "important_columns.columns"
   ]
  },
  {
   "cell_type": "code",
   "execution_count": 71,
   "metadata": {},
   "outputs": [],
   "source": [
    "#first I want to build a regression to estimate iron concentrate\n",
    "X = important_columns[['hours', '% Iron Feed', '% Silica Feed', 'Starch Flow', 'Amina Flow',\n",
    "       'Ore Pulp Flow', 'Ore Pulp pH', 'Ore Pulp Density']]\n",
    "y = important_columns['% Iron Concentrate']"
   ]
  },
  {
   "cell_type": "code",
   "execution_count": 72,
   "metadata": {},
   "outputs": [],
   "source": [
    "X_train, X_test, y_train, y_test = train_test_split(X, y, test_size=0.3, random_state=42)"
   ]
  },
  {
   "cell_type": "code",
   "execution_count": 73,
   "metadata": {},
   "outputs": [],
   "source": [
    "from sklearn.linear_model import LinearRegression"
   ]
  },
  {
   "cell_type": "code",
   "execution_count": 74,
   "metadata": {},
   "outputs": [],
   "source": [
    "lr_iron = LinearRegression()"
   ]
  },
  {
   "cell_type": "code",
   "execution_count": 75,
   "metadata": {},
   "outputs": [
    {
     "data": {
      "text/plain": [
       "LinearRegression()"
      ]
     },
     "execution_count": 75,
     "metadata": {},
     "output_type": "execute_result"
    }
   ],
   "source": [
    "lr_iron.fit(X_train,y_train)"
   ]
  },
  {
   "cell_type": "code",
   "execution_count": 76,
   "metadata": {},
   "outputs": [],
   "source": [
    "iron_pred = lr_iron.predict(X_test)"
   ]
  },
  {
   "cell_type": "markdown",
   "metadata": {},
   "source": [
    "#### Time for Visual analysis"
   ]
  },
  {
   "cell_type": "code",
   "execution_count": 79,
   "metadata": {},
   "outputs": [
    {
     "data": {
      "text/plain": [
       "Text(0.5, 1.0, 'Iron Linear Regression visual analysis')"
      ]
     },
     "execution_count": 79,
     "metadata": {},
     "output_type": "execute_result"
    },
    {
     "data": {
      "image/png": "[encoded data removed]",
      "text/plain": [
       "<Figure size 720x648 with 1 Axes>"
      ]
     },
     "metadata": {
      "needs_background": "light"
     },
     "output_type": "display_data"
    }
   ],
   "source": [
    "#Now I want to use a scatter plot to see how the linear regression model did\n",
    "plt.figure(figsize=(10,9))\n",
    "plt.scatter(y_test,iron_pred)\n",
    "plt.xlabel('Iron_Linear_Regression_Predictions')\n",
    "plt.ylabel('Actual Iron Concentrate')\n",
    "plt.title('Iron Linear Regression visual analysis')"
   ]
  },
  {
   "cell_type": "code",
   "execution_count": 81,
   "metadata": {},
   "outputs": [
    {
     "name": "stderr",
     "output_type": "stream",
     "text": [
      "C:\\Users\\tayoo_x4di65g\\AppData\\Local\\Programs\\Python\\Python310\\lib\\site-packages\\seaborn\\distributions.py:2619: FutureWarning: `distplot` is a deprecated function and will be removed in a future version. Please adapt your code to use either `displot` (a figure-level function with similar flexibility) or `histplot` (an axes-level function for histograms).\n",
      "  warnings.warn(msg, FutureWarning)\n"
     ]
    },
    {
     "data": {
      "text/plain": [
       "<AxesSubplot:xlabel='% Iron Concentrate', ylabel='Density'>"
      ]
     },
     "execution_count": 81,
     "metadata": {},
     "output_type": "execute_result"
    },
    {
     "data": {
      "image/png": "[encoded data removed]",
      "text/plain": [
       "<Figure size 432x288 with 1 Axes>"
      ]
     },
     "metadata": {
      "needs_background": "light"
     },
     "output_type": "display_data"
    }
   ],
   "source": [
    "residuals = y_test - iron_pred\n",
    "sns.distplot((residuals))"
   ]
  },
  {
   "cell_type": "markdown",
   "metadata": {},
   "source": [
    "##### As we can see, our model seemed to be linearly correlated and the residuals seemed to be normally distrbuted but I would still go ahead and consult with experts in the process before using this data to drive future procedures. Now I will use the sklearn metrics to further evaluate our model"
   ]
  },
  {
   "cell_type": "code",
   "execution_count": 82,
   "metadata": {},
   "outputs": [],
   "source": [
    "from sklearn import metrics"
   ]
  },
  {
   "cell_type": "code",
   "execution_count": 85,
   "metadata": {},
   "outputs": [
    {
     "name": "stdout",
     "output_type": "stream",
     "text": [
      "MAE: 0.8543276805827227\n",
      "MSE: 1.1450435430349108\n",
      "RMSE: 1.070067074082233\n"
     ]
    }
   ],
   "source": [
    "print(f'MAE: {metrics.mean_absolute_error(y_test,iron_pred)}')\n",
    "print(f'MSE: {metrics.mean_squared_error(y_test, iron_pred)}')\n",
    "print(f\"RMSE: {np.sqrt(metrics.mean_squared_error(y_test, iron_pred))}\")"
   ]
  },
  {
   "cell_type": "markdown",
   "metadata": {},
   "source": [
    "#### Now I want to build another linear regression model using the mean columns for the airflow and column level features which were deemed unimportant\n"
   ]
  },
  {
   "cell_type": "code",
   "execution_count": 86,
   "metadata": {},
   "outputs": [],
   "source": [
    "lr_iron2 = LinearRegression()"
   ]
  },
  {
   "cell_type": "code",
   "execution_count": 87,
   "metadata": {},
   "outputs": [
    {
     "data": {
      "text/plain": [
       "Index(['hours', '% Iron Feed', '% Silica Feed', 'Starch Flow', 'Amina Flow',\n",
       "       'Ore Pulp Flow', 'Ore Pulp pH', 'Ore Pulp Density', 'airflow_mean',\n",
       "       'column_level_mean', '% Iron Concentrate', '% Silica Concentrate'],\n",
       "      dtype='object')"
      ]
     },
     "execution_count": 87,
     "metadata": {},
     "output_type": "execute_result"
    }
   ],
   "source": [
    "important_columns.columns"
   ]
  },
  {
   "cell_type": "code",
   "execution_count": 88,
   "metadata": {},
   "outputs": [],
   "source": [
    "X = important_columns[['hours', '% Iron Feed', '% Silica Feed', 'Starch Flow', 'Amina Flow',\n",
    "       'Ore Pulp Flow', 'Ore Pulp pH', 'Ore Pulp Density', 'airflow_mean',\n",
    "       'column_level_mean']]\n",
    "y = important_columns['% Iron Concentrate']\n",
    "X_train, X_test, y_train, y_test = train_test_split(X, y, test_size=0.33, random_state=42)"
   ]
  },
  {
   "cell_type": "code",
   "execution_count": 89,
   "metadata": {},
   "outputs": [
    {
     "data": {
      "text/plain": [
       "LinearRegression()"
      ]
     },
     "execution_count": 89,
     "metadata": {},
     "output_type": "execute_result"
    }
   ],
   "source": [
    "lr_iron2.fit(X_train,y_train)"
   ]
  },
  {
   "cell_type": "code",
   "execution_count": 90,
   "metadata": {},
   "outputs": [],
   "source": [
    "iron_pred2 = lr_iron2.predict(X_test)"
   ]
  },
  {
   "cell_type": "markdown",
   "metadata": {},
   "source": [
    "#### Time for visual analysis"
   ]
  },
  {
   "cell_type": "code",
   "execution_count": 93,
   "metadata": {},
   "outputs": [
    {
     "name": "stderr",
     "output_type": "stream",
     "text": [
      "C:\\Users\\tayoo_x4di65g\\AppData\\Local\\Programs\\Python\\Python310\\lib\\site-packages\\seaborn\\_decorators.py:36: FutureWarning: Pass the following variables as keyword args: x, y. From version 0.12, the only valid positional argument will be `data`, and passing other arguments without an explicit keyword will result in an error or misinterpretation.\n",
      "  warnings.warn(\n"
     ]
    },
    {
     "data": {
      "text/plain": [
       "Text(0.5, 1.0, 'Iron Linear Regression visual analysis')"
      ]
     },
     "execution_count": 93,
     "metadata": {},
     "output_type": "execute_result"
    },
    {
     "data": {
      "image/png": "[encoded data removed]",
      "text/plain": [
       "<Figure size 720x648 with 1 Axes>"
      ]
     },
     "metadata": {
      "needs_background": "light"
     },
     "output_type": "display_data"
    }
   ],
   "source": [
    "plt.figure(figsize=(10,9))\n",
    "sns.scatterplot(y_test, iron_pred2)\n",
    "plt.xlabel('Iron_Linear_Regression_Predictions')\n",
    "plt.ylabel('Actual Iron Concentrate')\n",
    "plt.title('Iron Linear Regression visual analysis')"
   ]
  },
  {
   "cell_type": "code",
   "execution_count": 99,
   "metadata": {},
   "outputs": [
    {
     "name": "stderr",
     "output_type": "stream",
     "text": [
      "C:\\Users\\tayoo_x4di65g\\AppData\\Local\\Programs\\Python\\Python310\\lib\\site-packages\\seaborn\\distributions.py:2619: FutureWarning: `distplot` is a deprecated function and will be removed in a future version. Please adapt your code to use either `displot` (a figure-level function with similar flexibility) or `histplot` (an axes-level function for histograms).\n",
      "  warnings.warn(msg, FutureWarning)\n"
     ]
    },
    {
     "data": {
      "text/plain": [
       "<AxesSubplot:xlabel='% Iron Concentrate', ylabel='Density'>"
      ]
     },
     "execution_count": 99,
     "metadata": {},
     "output_type": "execute_result"
    },
    {
     "data": {
      "image/png": "[encoded data removed]",
      "text/plain": [
       "<Figure size 432x288 with 1 Axes>"
      ]
     },
     "metadata": {
      "needs_background": "light"
     },
     "output_type": "display_data"
    }
   ],
   "source": [
    "residuals = y_test - iron_pred2\n",
    "sns.distplot(residuals)"
   ]
  },
  {
   "cell_type": "code",
   "execution_count": 102,
   "metadata": {},
   "outputs": [
    {
     "name": "stdout",
     "output_type": "stream",
     "text": [
      "MAE: 0.8498293492119341\n",
      "MSE: 1.132806445224314\n",
      "RMSE: 1.0643338034772334\n"
     ]
    }
   ],
   "source": [
    "print(f'MAE: {metrics.mean_absolute_error(y_test,iron_pred2)}')\n",
    "print(f'MSE: {metrics.mean_squared_error(y_test, iron_pred2)}')\n",
    "print(f\"RMSE: {np.sqrt(metrics.mean_squared_error(y_test, iron_pred2))}\")\n",
    "# I think the second one was SLIGHTLY better than the first model because the errors were slightly lower"
   ]
  },
  {
   "cell_type": "code",
   "execution_count": 103,
   "metadata": {},
   "outputs": [
    {
     "data": {
      "text/plain": [
       "Index(['hours', '% Iron Feed', '% Silica Feed', 'Starch Flow', 'Amina Flow',\n",
       "       'Ore Pulp Flow', 'Ore Pulp pH', 'Ore Pulp Density', 'airflow_mean',\n",
       "       'column_level_mean', '% Iron Concentrate', '% Silica Concentrate'],\n",
       "      dtype='object')"
      ]
     },
     "execution_count": 103,
     "metadata": {},
     "output_type": "execute_result"
    }
   ],
   "source": [
    "#Time to predict silica concentrate\n",
    "important_columns.columns"
   ]
  },
  {
   "cell_type": "code",
   "execution_count": 104,
   "metadata": {},
   "outputs": [],
   "source": [
    "X = important_columns[['hours', '% Iron Feed', '% Silica Feed', 'Starch Flow', 'Amina Flow',\n",
    "       'Ore Pulp Flow', 'Ore Pulp pH', 'Ore Pulp Density']]\n",
    "y = important_columns['% Silica Concentrate']"
   ]
  },
  {
   "cell_type": "code",
   "execution_count": 105,
   "metadata": {},
   "outputs": [],
   "source": [
    "X_train, X_test, y_train, y_test = train_test_split(X, y, test_size=0.3, random_state=42)"
   ]
  },
  {
   "cell_type": "code",
   "execution_count": 106,
   "metadata": {},
   "outputs": [],
   "source": [
    "lr_silica = LinearRegression()"
   ]
  },
  {
   "cell_type": "code",
   "execution_count": 107,
   "metadata": {},
   "outputs": [
    {
     "data": {
      "text/plain": [
       "LinearRegression()"
      ]
     },
     "execution_count": 107,
     "metadata": {},
     "output_type": "execute_result"
    }
   ],
   "source": [
    "lr_silica.fit(X_train, y_train)"
   ]
  },
  {
   "cell_type": "code",
   "execution_count": 108,
   "metadata": {},
   "outputs": [],
   "source": [
    "silica_pred = lr_silica.predict(X_test)"
   ]
  },
  {
   "cell_type": "markdown",
   "metadata": {},
   "source": [
    "#### Visual Analysis time :) "
   ]
  },
  {
   "cell_type": "code",
   "execution_count": 118,
   "metadata": {},
   "outputs": [
    {
     "data": {
      "text/plain": [
       "[<matplotlib.lines.Line2D at 0x244d00902b0>]"
      ]
     },
     "execution_count": 118,
     "metadata": {},
     "output_type": "execute_result"
    },
    {
     "data": {
      "image/png": "[encoded data removed]",
      "text/plain": [
       "<Figure size 432x288 with 1 Axes>"
      ]
     },
     "metadata": {
      "needs_background": "light"
     },
     "output_type": "display_data"
    }
   ],
   "source": [
    "plt.plot(y_test, silica_pred) # The scatterplot didn't even work so I can imagine how bad this model was"
   ]
  },
  {
   "cell_type": "markdown",
   "metadata": {},
   "source": [
    "#### For time's sake I will no longer try to build a model which includes the mean columns for airflow and column level"
   ]
  },
  {
   "cell_type": "markdown",
   "metadata": {},
   "source": [
    "#### I also want to state that I recognize that this is not conclusive as the features could be combined to predict other outcomes but I will probably need to consult experts, thank you  "
   ]
  },
  {
   "cell_type": "markdown",
   "metadata": {},
   "source": []
  }
 ],
 "metadata": {
  "interpreter": {
   "hash": "02f9303255b0176f46dcf603c1e91d0a5b0b1711b649c123c9849d05347e13c9"
  },
  "kernelspec": {
   "display_name": "Python 3.10.1 64-bit",
   "language": "python",
   "name": "python3"
  },
  "language_info": {
   "codemirror_mode": {
    "name": "ipython",
    "version": 3
   },
   "file_extension": ".py",
   "mimetype": "text/x-python",
   "name": "python",
   "nbconvert_exporter": "python",
   "pygments_lexer": "ipython3",
   "version": "3.10.1"
  },
  "orig_nbformat": 4
 },
 "nbformat": 4,
 "nbformat_minor": 2
}
